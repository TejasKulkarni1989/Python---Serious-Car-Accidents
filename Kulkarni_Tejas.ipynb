{
 "cells": [
  {
   "cell_type": "markdown",
   "metadata": {},
   "source": [
    "#### Exam description\n",
    "For this exam, you will predict the target values for the test.csv. \n",
    "\n",
    "#### Your task:\n",
    "find a good machine learning model to predict the target value. Then predict the target values of the instances in the test.csv. \n",
    "\n",
    "#### Exam rules\n",
    "- You can use only the machine learning models discussed in this course. \n",
    "    - If the prediction is based on a model that is not discussed in class, one of the models in your submission will randomly be selected for grading. \n",
    "- Fifty percent of the grade is based on your Python code submission. The other 50 percent of your grade is based on the evaluation score of the prediction. \n",
    "- The exam should be syntax error-free. Run your code before the final submission. \n",
    "- Save the final prediction array as ``final_test_prediction``. \n",
    "- <font color = 'red'> The final prediction will be evaluated using the **roc_auc_score** function. </font>\n",
    "\n",
    "#### Devliverable\n",
    "Submit ONLY the iPython notebook or the .py file of your work. Use the following frame for your submission. Please don't remove the headers in the following structure. \n",
    "\n",
    "#### Rubric\n",
    "| Descriptio | Fair | Good | excelent |\n",
    "|:-----------|:------|:------|:----------|\n",
    "|Preprocessing|Demonstrate limited understanding of preprocessing steps | Demonstrate a moderate ability to find a way to apply the preprocessing step to prepare the dataset for Machine learning models | Demonstrate the ability to choose the appropriate preprocessing model to prepare the dataset |\n",
    "|Machine learning model | Demonstrate limited understanding of methods used to train machine learning models | Demonstrate the ability to understand techniques used to train machine learning models with some effectiveness. This includes optimization algorithms, initialization, regularization, and hyperparameter search methods | Demonstrate ability to understand and apply various algorithms as well as initialization, regularization, and hyperparameter search methods |\n",
    "|Final prediction |Demonstrate limited understanding of strategies to structure and end to end machine learning project | Demonstrate ability to understand classic ML strategies such as error analysis, data split, data collection and evaluation metric selection with some effectiveness | Demonstrates ability to structure the project and apply methods such as error analysis, data split, data collection, design a labeling process and select proper evaluation metrics to improve performance.\n"
   ]
  },
  {
   "cell_type": "markdown",
   "metadata": {},
   "source": [
    "# Preprocessing ``train.csv`` (15 points)"
   ]
  },
  {
   "cell_type": "code",
   "execution_count": 1,
   "metadata": {},
   "outputs": [],
   "source": [
    "import pandas as pd\n",
    "import numpy as np\n",
    "import matplotlib.pyplot as plt\n",
    "import pylab as plt\n",
    "from sklearn.model_selection import train_test_split\n",
    "from sklearn.preprocessing import MinMaxScaler\n",
    "from sklearn.linear_model import LogisticRegression"
   ]
  },
  {
   "cell_type": "code",
   "execution_count": 2,
   "metadata": {},
   "outputs": [],
   "source": [
    "df_train = pd.read_csv('train.csv')\n",
    "df_test = pd.read_csv('test.csv')"
   ]
  },
  {
   "cell_type": "markdown",
   "metadata": {},
   "source": [
    "### Explore the Data"
   ]
  },
  {
   "cell_type": "code",
   "execution_count": 3,
   "metadata": {
    "scrolled": true
   },
   "outputs": [
    {
     "data": {
      "text/html": [
       "<div>\n",
       "<style scoped>\n",
       "    .dataframe tbody tr th:only-of-type {\n",
       "        vertical-align: middle;\n",
       "    }\n",
       "\n",
       "    .dataframe tbody tr th {\n",
       "        vertical-align: top;\n",
       "    }\n",
       "\n",
       "    .dataframe thead th {\n",
       "        text-align: right;\n",
       "    }\n",
       "</style>\n",
       "<table border=\"1\" class=\"dataframe\">\n",
       "  <thead>\n",
       "    <tr style=\"text-align: right;\">\n",
       "      <th></th>\n",
       "      <th>$1000 Damage to Any One Person's Property</th>\n",
       "      <th>Bridge Detail</th>\n",
       "      <th>Construction Zone Flag</th>\n",
       "      <th>Construction Zone Workers Present Flag</th>\n",
       "      <th>Crash Time</th>\n",
       "      <th>Day of Week</th>\n",
       "      <th>Highway System</th>\n",
       "      <th>Intersecting Highway Number</th>\n",
       "      <th>Intersecting Street Name</th>\n",
       "      <th>Manner of Collision</th>\n",
       "      <th>Median Type</th>\n",
       "      <th>Median Width</th>\n",
       "      <th>Number of Entering Roads</th>\n",
       "      <th>Number of Lanes</th>\n",
       "      <th>Surface Condition</th>\n",
       "      <th>Surface Type</th>\n",
       "      <th>Surface Width</th>\n",
       "      <th>Weather Condition</th>\n",
       "      <th>Crash Severity</th>\n",
       "    </tr>\n",
       "  </thead>\n",
       "  <tbody>\n",
       "    <tr>\n",
       "      <th>0</th>\n",
       "      <td>Yes</td>\n",
       "      <td>NOT APPLICABLE</td>\n",
       "      <td>No</td>\n",
       "      <td>No</td>\n",
       "      <td>638</td>\n",
       "      <td>TUESDAY</td>\n",
       "      <td>STATE SPUR</td>\n",
       "      <td>No Data</td>\n",
       "      <td>NaN</td>\n",
       "      <td>SAME DIRECTION - ONE STRAIGHT-ONE STOPPED</td>\n",
       "      <td>No Data</td>\n",
       "      <td>40</td>\n",
       "      <td>97 - NOT APPLICABLE</td>\n",
       "      <td>8</td>\n",
       "      <td>1 - DRY</td>\n",
       "      <td>No Data</td>\n",
       "      <td>96</td>\n",
       "      <td>1 - CLEAR</td>\n",
       "      <td>Not serious</td>\n",
       "    </tr>\n",
       "    <tr>\n",
       "      <th>1</th>\n",
       "      <td>Yes</td>\n",
       "      <td>NOT APPLICABLE</td>\n",
       "      <td>No</td>\n",
       "      <td>No</td>\n",
       "      <td>1658</td>\n",
       "      <td>SUNDAY</td>\n",
       "      <td>STATE SPUR</td>\n",
       "      <td>No Data</td>\n",
       "      <td>N FIELD ST</td>\n",
       "      <td>ANGLE - BOTH GOING STRAIGHT</td>\n",
       "      <td>No Data</td>\n",
       "      <td>40</td>\n",
       "      <td>97 - NOT APPLICABLE</td>\n",
       "      <td>8</td>\n",
       "      <td>2 - WET</td>\n",
       "      <td>No Data</td>\n",
       "      <td>96</td>\n",
       "      <td>3 - RAIN</td>\n",
       "      <td>Not serious</td>\n",
       "    </tr>\n",
       "    <tr>\n",
       "      <th>2</th>\n",
       "      <td>Yes</td>\n",
       "      <td>NOT APPLICABLE</td>\n",
       "      <td>No</td>\n",
       "      <td>No</td>\n",
       "      <td>1715</td>\n",
       "      <td>WEDNESDAY</td>\n",
       "      <td>STATE SPUR</td>\n",
       "      <td>No Data</td>\n",
       "      <td>AKARD ST</td>\n",
       "      <td>SAME DIRECTION - ONE STRAIGHT-ONE LEFT TURN</td>\n",
       "      <td>No Data</td>\n",
       "      <td>No Data</td>\n",
       "      <td>97 - NOT APPLICABLE</td>\n",
       "      <td>No Data</td>\n",
       "      <td>1 - DRY</td>\n",
       "      <td>No Data</td>\n",
       "      <td>No Data</td>\n",
       "      <td>2 - CLOUDY</td>\n",
       "      <td>Not serious</td>\n",
       "    </tr>\n",
       "    <tr>\n",
       "      <th>3</th>\n",
       "      <td>Yes</td>\n",
       "      <td>NOT APPLICABLE</td>\n",
       "      <td>No</td>\n",
       "      <td>No</td>\n",
       "      <td>1817</td>\n",
       "      <td>FRIDAY</td>\n",
       "      <td>STATE SPUR</td>\n",
       "      <td>No Data</td>\n",
       "      <td>NaN</td>\n",
       "      <td>SAME DIRECTION - BOTH GOING STRAIGHT-REAR END</td>\n",
       "      <td>No Data</td>\n",
       "      <td>40</td>\n",
       "      <td>97 - NOT APPLICABLE</td>\n",
       "      <td>8</td>\n",
       "      <td>1 - DRY</td>\n",
       "      <td>No Data</td>\n",
       "      <td>96</td>\n",
       "      <td>1 - CLEAR</td>\n",
       "      <td>Not serious</td>\n",
       "    </tr>\n",
       "    <tr>\n",
       "      <th>4</th>\n",
       "      <td>Yes</td>\n",
       "      <td>NOT APPLICABLE</td>\n",
       "      <td>No</td>\n",
       "      <td>No</td>\n",
       "      <td>1950</td>\n",
       "      <td>SUNDAY</td>\n",
       "      <td>STATE SPUR</td>\n",
       "      <td>345</td>\n",
       "      <td>IH0345</td>\n",
       "      <td>ANGLE - BOTH GOING STRAIGHT</td>\n",
       "      <td>No Data</td>\n",
       "      <td>40</td>\n",
       "      <td>4 - FOUR ENTERING ROADS</td>\n",
       "      <td>8</td>\n",
       "      <td>1 - DRY</td>\n",
       "      <td>No Data</td>\n",
       "      <td>96</td>\n",
       "      <td>1 - CLEAR</td>\n",
       "      <td>Not serious</td>\n",
       "    </tr>\n",
       "  </tbody>\n",
       "</table>\n",
       "</div>"
      ],
      "text/plain": [
       "  $1000 Damage to Any One Person's Property   Bridge Detail  \\\n",
       "0                                       Yes  NOT APPLICABLE   \n",
       "1                                       Yes  NOT APPLICABLE   \n",
       "2                                       Yes  NOT APPLICABLE   \n",
       "3                                       Yes  NOT APPLICABLE   \n",
       "4                                       Yes  NOT APPLICABLE   \n",
       "\n",
       "  Construction Zone Flag Construction Zone Workers Present Flag  Crash Time  \\\n",
       "0                     No                                     No         638   \n",
       "1                     No                                     No        1658   \n",
       "2                     No                                     No        1715   \n",
       "3                     No                                     No        1817   \n",
       "4                     No                                     No        1950   \n",
       "\n",
       "  Day of Week Highway System Intersecting Highway Number  \\\n",
       "0     TUESDAY     STATE SPUR                     No Data   \n",
       "1      SUNDAY     STATE SPUR                     No Data   \n",
       "2   WEDNESDAY     STATE SPUR                     No Data   \n",
       "3      FRIDAY     STATE SPUR                     No Data   \n",
       "4      SUNDAY     STATE SPUR                         345   \n",
       "\n",
       "  Intersecting Street Name                            Manner of Collision  \\\n",
       "0                      NaN      SAME DIRECTION - ONE STRAIGHT-ONE STOPPED   \n",
       "1               N FIELD ST                    ANGLE - BOTH GOING STRAIGHT   \n",
       "2                 AKARD ST    SAME DIRECTION - ONE STRAIGHT-ONE LEFT TURN   \n",
       "3                      NaN  SAME DIRECTION - BOTH GOING STRAIGHT-REAR END   \n",
       "4                   IH0345                    ANGLE - BOTH GOING STRAIGHT   \n",
       "\n",
       "  Median Type Median Width Number of Entering Roads Number of Lanes  \\\n",
       "0     No Data           40      97 - NOT APPLICABLE               8   \n",
       "1     No Data           40      97 - NOT APPLICABLE               8   \n",
       "2     No Data      No Data      97 - NOT APPLICABLE         No Data   \n",
       "3     No Data           40      97 - NOT APPLICABLE               8   \n",
       "4     No Data           40  4 - FOUR ENTERING ROADS               8   \n",
       "\n",
       "  Surface Condition Surface Type Surface Width Weather Condition  \\\n",
       "0           1 - DRY      No Data            96         1 - CLEAR   \n",
       "1           2 - WET      No Data            96          3 - RAIN   \n",
       "2           1 - DRY      No Data       No Data        2 - CLOUDY   \n",
       "3           1 - DRY      No Data            96         1 - CLEAR   \n",
       "4           1 - DRY      No Data            96         1 - CLEAR   \n",
       "\n",
       "  Crash Severity  \n",
       "0    Not serious  \n",
       "1    Not serious  \n",
       "2    Not serious  \n",
       "3    Not serious  \n",
       "4    Not serious  "
      ]
     },
     "execution_count": 3,
     "metadata": {},
     "output_type": "execute_result"
    }
   ],
   "source": [
    "df_train.head()"
   ]
  },
  {
   "cell_type": "code",
   "execution_count": 4,
   "metadata": {},
   "outputs": [
    {
     "name": "stdout",
     "output_type": "stream",
     "text": [
      "Train: (2322, 19) Test: (774, 18)\n"
     ]
    }
   ],
   "source": [
    "print('Train:',df_train.shape,'Test:',df_test.shape)"
   ]
  },
  {
   "cell_type": "markdown",
   "metadata": {},
   "source": [
    "### Lets check the Target column"
   ]
  },
  {
   "cell_type": "code",
   "execution_count": 5,
   "metadata": {},
   "outputs": [
    {
     "data": {
      "text/plain": [
       "Not serious    2286\n",
       "Serious          36\n",
       "Name: Crash Severity, dtype: int64"
      ]
     },
     "execution_count": 5,
     "metadata": {},
     "output_type": "execute_result"
    }
   ],
   "source": [
    "df_train['Crash Severity'].value_counts()"
   ]
  },
  {
   "cell_type": "code",
   "execution_count": 6,
   "metadata": {},
   "outputs": [
    {
     "data": {
      "text/plain": [
       "<AxesSubplot:title={'center':'Crash Severity'}>"
      ]
     },
     "execution_count": 6,
     "metadata": {},
     "output_type": "execute_result"
    },
    {
     "data": {
      "image/png": "[encoded data removed]",
      "text/plain": [
       "<Figure size 432x288 with 1 Axes>"
      ]
     },
     "metadata": {
      "needs_background": "light"
     },
     "output_type": "display_data"
    }
   ],
   "source": [
    "df_train[\"Crash Severity\"].value_counts().plot(kind='bar', \n",
    "                                         title=\"Crash Severity\")"
   ]
  },
  {
   "cell_type": "markdown",
   "metadata": {},
   "source": [
    "#### The data is Imblanaced"
   ]
  },
  {
   "cell_type": "code",
   "execution_count": 7,
   "metadata": {},
   "outputs": [
    {
     "name": "stdout",
     "output_type": "stream",
     "text": [
      "<class 'pandas.core.frame.DataFrame'>\n",
      "RangeIndex: 2322 entries, 0 to 2321\n",
      "Data columns (total 19 columns):\n",
      " #   Column                                     Non-Null Count  Dtype \n",
      "---  ------                                     --------------  ----- \n",
      " 0   $1000 Damage to Any One Person's Property  2322 non-null   object\n",
      " 1   Bridge Detail                              2322 non-null   object\n",
      " 2   Construction Zone Flag                     2322 non-null   object\n",
      " 3   Construction Zone Workers Present Flag     2322 non-null   object\n",
      " 4   Crash Time                                 2322 non-null   int64 \n",
      " 5   Day of Week                                2322 non-null   object\n",
      " 6   Highway System                             2322 non-null   object\n",
      " 7   Intersecting Highway Number                2322 non-null   object\n",
      " 8   Intersecting Street Name                   541 non-null    object\n",
      " 9   Manner of Collision                        2322 non-null   object\n",
      " 10  Median Type                                2322 non-null   object\n",
      " 11  Median Width                               2322 non-null   object\n",
      " 12  Number of Entering Roads                   2322 non-null   object\n",
      " 13  Number of Lanes                            2322 non-null   object\n",
      " 14  Surface Condition                          2322 non-null   object\n",
      " 15  Surface Type                               2322 non-null   object\n",
      " 16  Surface Width                              2322 non-null   object\n",
      " 17  Weather Condition                          2322 non-null   object\n",
      " 18  Crash Severity                             2322 non-null   object\n",
      "dtypes: int64(1), object(18)\n",
      "memory usage: 344.8+ KB\n"
     ]
    }
   ],
   "source": [
    "df_train.info()"
   ]
  },
  {
   "cell_type": "markdown",
   "metadata": {},
   "source": [
    "#### Let us plot all the Columns"
   ]
  },
  {
   "cell_type": "code",
   "execution_count": 8,
   "metadata": {},
   "outputs": [
    {
     "data": {
      "text/plain": [
       "<AxesSubplot:title={'center':'Day of Week'}>"
      ]
     },
     "execution_count": 8,
     "metadata": {},
     "output_type": "execute_result"
    },
    {
     "data": {
      "image/png": "[encoded data removed]",
      "text/plain": [
       "<Figure size 720x1440 with 5 Axes>"
      ]
     },
     "metadata": {
      "needs_background": "light"
     },
     "output_type": "display_data"
    }
   ],
   "source": [
    "# Set up a grid of plots\n",
    "fig = plt.figure(figsize=(10,20)) \n",
    "fig_dims = (6,6)\n",
    "\n",
    "# Plot $1000 Damage to Any One Person's Property\n",
    "plt.subplot2grid(fig_dims, (1, 0))\n",
    "df_train[\"$1000 Damage to Any One Person's Property\"].value_counts().plot(kind='bar', \n",
    "                                         title=\"$1000 Damage to Any One Person's Property\")\n",
    "\n",
    "# Bridge Detail\n",
    "plt.subplot2grid(fig_dims, (1, 2))\n",
    "df_train[\"Bridge Detail\"].value_counts().plot(kind='bar', title=\"Bridge Detail\")\n",
    "\n",
    "# Construction Zone Flag\n",
    "plt.subplot2grid(fig_dims, (1, 4))\n",
    "df_train[\"Construction Zone Flag\"].value_counts().plot(kind='bar', \n",
    "                                         title=\"Construction Zone Flag\")\n",
    "# Construction Zone Workers Present Flag\n",
    "plt.subplot2grid(fig_dims, (3, 0))\n",
    "df_train[\"Construction Zone Workers Present Flag\"].value_counts().plot(kind='bar', \n",
    "                                         title=\"Construction Zone Workers Present Flag\")\n",
    "# Day of Week                                           \n",
    "plt.subplot2grid(fig_dims, (3, 2))\n",
    "df_train[\"Day of Week\"].value_counts().plot(kind='bar', \n",
    "                                         title=\"Day of Week\") \n",
    "                                            \n"
   ]
  },
  {
   "cell_type": "code",
   "execution_count": 9,
   "metadata": {},
   "outputs": [
    {
     "data": {
      "text/plain": [
       "NOT APPLICABLE                            2296\n",
       "STRUCTURE NOT HIT                           11\n",
       "VEHICLE RETAINED ON BRIDGE OR OVERPASS       8\n",
       "CRASH INVOLVED UNDERPASS                     6\n",
       "VEHICLE WENT OVER RAIL                       1\n",
       "Name: Bridge Detail, dtype: int64"
      ]
     },
     "execution_count": 9,
     "metadata": {},
     "output_type": "execute_result"
    }
   ],
   "source": [
    "df_train['Bridge Detail'].value_counts()"
   ]
  },
  {
   "cell_type": "code",
   "execution_count": 10,
   "metadata": {},
   "outputs": [
    {
     "data": {
      "text/plain": [
       "<AxesSubplot:title={'center':'Intersecting Street Name'}>"
      ]
     },
     "execution_count": 10,
     "metadata": {},
     "output_type": "execute_result"
    },
    {
     "data": {
      "image/png": "[encoded data removed]",
      "text/plain": [
       "<Figure size 720x1440 with 4 Axes>"
      ]
     },
     "metadata": {
      "needs_background": "light"
     },
     "output_type": "display_data"
    }
   ],
   "source": [
    "fig = plt.figure(figsize=(10,20)) \n",
    "fig_dims = (6,6 )\n",
    "\n",
    "#                                             \n",
    "plt.subplot2grid(fig_dims, (2, 0))\n",
    "df_train[\"Highway System\"].value_counts().plot(kind='bar', \n",
    "                                         title=\"Highway System\") \n",
    "\n",
    "#\n",
    "plt.subplot2grid(fig_dims, (2, 2))\n",
    "df_train[\"Intersecting Highway Number\"].value_counts().plot(kind='bar', \n",
    "                                         title=\"Intersecting Highway Number\")\n",
    "#\n",
    "plt.subplot2grid(fig_dims, (2, 4))\n",
    "df_train[\"Manner of Collision\"].value_counts().plot(kind='bar', \n",
    "                                         title=\"Manner of Collision\")\n",
    "#\n",
    "plt.subplot2grid(fig_dims, (3, 0))\n",
    "df_train[\"Intersecting Street Name\"].value_counts().plot(kind='bar', \n",
    "                                         title=\"Intersecting Street Name\")\n"
   ]
  },
  {
   "cell_type": "markdown",
   "metadata": {},
   "source": [
    "#### Too many Catogories in Manner of Collision and Intersecting Street Name , lets check the value counts for the Manner of Collision and Intersecting Street Name column"
   ]
  },
  {
   "cell_type": "code",
   "execution_count": 11,
   "metadata": {
    "scrolled": false
   },
   "outputs": [
    {
     "data": {
      "text/plain": [
       "SAME DIRECTION - BOTH GOING STRAIGHT-REAR END        665\n",
       "SAME DIRECTION - BOTH GOING STRAIGHT-SIDESWIPE       542\n",
       "SAME DIRECTION - ONE STRAIGHT-ONE STOPPED            404\n",
       "ONE MOTOR VEHICLE - GOING STRAIGHT                   325\n",
       "ANGLE - BOTH GOING STRAIGHT                          177\n",
       "OPPOSITE DIRECTION - ONE STRAIGHT-ONE LEFT TURN       89\n",
       "SAME DIRECTION - ONE STRAIGHT-ONE LEFT TURN           32\n",
       "ANGLE - ONE STRAIGHT-ONE RIGHT TURN                   16\n",
       "SAME DIRECTION - ONE STRAIGHT-ONE RIGHT TURN          12\n",
       "SAME DIRECTION - BOTH RIGHT TURN                       9\n",
       "OPPOSITE DIRECTION - ONE STRAIGHT-ONE BACKING          9\n",
       "ONE MOTOR VEHICLE - TURNING RIGHT                      9\n",
       "ANGLE - ONE STRAIGHT-ONE LEFT TURN                     8\n",
       "ONE MOTOR VEHICLE - TURNING LEFT                       7\n",
       "OPPOSITE DIRECTION - ONE BACKING-ONE STOPPED           7\n",
       "ANGLE - ONE STRAIGHT-ONE STOPPED                       2\n",
       "ONE MOTOR VEHICLE - OTHER                              2\n",
       "ANGLE - ONE RIGHT TURN-ONE STOPPED                     1\n",
       "ONE MOTOR VEHICLE - BACKING                            1\n",
       "SAME DIRECTION - BOTH LEFT TURN                        1\n",
       "ANGLE - ONE STRAIGHT-ONE BACKING                       1\n",
       "OPPOSITE DIRECTION - ONE LEFT TURN-ONE STOPPED         1\n",
       "OPPOSITE DIRECTION - BOTH GOING STRAIGHT               1\n",
       "OPPOSITE DIRECTION - ONE RIGHT TURN-ONE LEFT TURN      1\n",
       "Name: Manner of Collision, dtype: int64"
      ]
     },
     "execution_count": 11,
     "metadata": {},
     "output_type": "execute_result"
    }
   ],
   "source": [
    "df_train[\"Manner of Collision\"].value_counts()"
   ]
  },
  {
   "cell_type": "code",
   "execution_count": 12,
   "metadata": {},
   "outputs": [
    {
     "data": {
      "text/plain": [
       "IH0035E                   221\n",
       "IH0345                    146\n",
       "N PEARL ST                 21\n",
       "N FIELD ST                 18\n",
       "N AKARD ST                 14\n",
       "AKARD ST                   14\n",
       "OLIVE ST                   14\n",
       "ROUTH ST                   13\n",
       "FIELD ST                   11\n",
       "N ST PAUL ST               11\n",
       "PEARL ST                    8\n",
       "US0075                      7\n",
       "MAPLE ROUTH CONNECTION      5\n",
       "ROSS AVE                    4\n",
       "N OLIVE ST                  4\n",
       "NOT REPORTED                3\n",
       "N RIVERFRONT BLVD           3\n",
       "HARWOOD ST                  2\n",
       "ST PAUL ST                  2\n",
       "N BECKLEY AVE               2\n",
       "BOLL ST                     2\n",
       "MAPLE ROUTH                 1\n",
       "N PEARL                     1\n",
       "N GRIFFIN ST                1\n",
       "STPAUL ST                   1\n",
       "SAINT PAUL ST               1\n",
       "MAPLE ROUTH ST              1\n",
       "N AKARO ST                  1\n",
       "COLUMBUS ST                 1\n",
       "LIVE OAK ST                 1\n",
       "N HARWOOD ST                1\n",
       "LEMMON AVE                  1\n",
       "SAN JACINTO ST              1\n",
       "BECKLEY AVE                 1\n",
       "ROUTH AVE                   1\n",
       "BRYAN ST                    1\n",
       "GRIFFIN ST                  1\n",
       "Name: Intersecting Street Name, dtype: int64"
      ]
     },
     "execution_count": 12,
     "metadata": {},
     "output_type": "execute_result"
    }
   ],
   "source": [
    "df_train[\"Intersecting Street Name\"].value_counts()"
   ]
  },
  {
   "cell_type": "code",
   "execution_count": 13,
   "metadata": {},
   "outputs": [
    {
     "data": {
      "text/plain": [
       "<AxesSubplot:title={'center':'Number of Entering Roads'}>"
      ]
     },
     "execution_count": 13,
     "metadata": {},
     "output_type": "execute_result"
    },
    {
     "data": {
      "image/png": "[encoded data removed]",
      "text/plain": [
       "<Figure size 720x1440 with 3 Axes>"
      ]
     },
     "metadata": {
      "needs_background": "light"
     },
     "output_type": "display_data"
    }
   ],
   "source": [
    "fig = plt.figure(figsize=(10,20)) \n",
    "fig_dims = (6,6)\n",
    "#Median Type\n",
    "plt.subplot2grid(fig_dims, (3,0))\n",
    "df_train[\"Median Type\"].value_counts().plot(kind='bar', \n",
    "                                         title=\"Median Type\")\n",
    "#Number of Entering Roads\n",
    "plt.subplot2grid(fig_dims, (3,2))\n",
    "df_train[\"Median Width\"].value_counts().plot(kind='bar', \n",
    "                                         title=\"Median Width\")\n",
    "\n",
    "#\n",
    "#\n",
    "plt.subplot2grid(fig_dims, (3,4))\n",
    "df_train[\"Number of Entering Roads\"].value_counts().plot(kind='bar', \n",
    "                                         title=\"Number of Entering Roads\")"
   ]
  },
  {
   "cell_type": "code",
   "execution_count": 14,
   "metadata": {},
   "outputs": [
    {
     "data": {
      "text/plain": [
       "<AxesSubplot:title={'center':'Weather Condition'}>"
      ]
     },
     "execution_count": 14,
     "metadata": {},
     "output_type": "execute_result"
    },
    {
     "data": {
      "image/png": "[encoded data removed]",
      "text/plain": [
       "<Figure size 720x1440 with 5 Axes>"
      ]
     },
     "metadata": {
      "needs_background": "light"
     },
     "output_type": "display_data"
    }
   ],
   "source": [
    "fig = plt.figure(figsize=(10,20)) \n",
    "fig_dims = (6,6 )\n",
    "#\n",
    "plt.subplot2grid(fig_dims, (3,0))\n",
    "df_train[\"Number of Lanes\"].value_counts().plot(kind='bar', \n",
    "                                         title=\"'Number of Lanes\")\n",
    "\n",
    "#\n",
    "plt.subplot2grid(fig_dims, (3,2))\n",
    "df_train[\"Surface Condition\"].value_counts().plot(kind='bar', \n",
    "                                         title=\"Surface Condition\")\n",
    "#\n",
    "plt.subplot2grid(fig_dims, (3,4))\n",
    "df_train[\"Surface Type\"].value_counts().plot(kind='bar', \n",
    "                                         title=\"Surface Type\")\n",
    "\n",
    "#\n",
    "plt.subplot2grid(fig_dims, (4,1))\n",
    "df_train[\"Surface Width\"].value_counts().plot(kind='bar', \n",
    "                                         title=\"Surface Width\")\n",
    "\n",
    "#\n",
    "plt.subplot2grid(fig_dims, (4,3))\n",
    "df_train[\"Weather Condition\"].value_counts().plot(kind='bar', \n",
    "                                         title=\"Weather Condition\")"
   ]
  },
  {
   "cell_type": "code",
   "execution_count": 15,
   "metadata": {},
   "outputs": [
    {
     "data": {
      "text/plain": [
       "Text(0.5, 1.0, 'Crash Time')"
      ]
     },
     "execution_count": 15,
     "metadata": {},
     "output_type": "execute_result"
    },
    {
     "data": {
      "image/png": "[encoded data removed]",
      "text/plain": [
       "<Figure size 432x288 with 1 Axes>"
      ]
     },
     "metadata": {
      "needs_background": "light"
     },
     "output_type": "display_data"
    }
   ],
   "source": [
    "# Plot the Crash time histogram\n",
    "df_train['Crash Time'].hist()\n",
    "plt.title('Crash Time')"
   ]
  },
  {
   "cell_type": "code",
   "execution_count": null,
   "metadata": {},
   "outputs": [],
   "source": []
  },
  {
   "cell_type": "markdown",
   "metadata": {},
   "source": [
    "#### $1000 Damage to Any One Person's Property map Yes : 1 No : 0\n",
    "#### Bridge Detail: Mege and Map\n",
    "#### Construction Zone Workers Present Flag : Map No : 1 , YES : 0\n",
    "#### Construction Zone Flag: Map No : 1 , YES : 0\n",
    "#### Crash Time : Same\n",
    "#### Day of the week : Make Dummies \n",
    "#### DROP High System : 1 value - Drop Column\n",
    "#### Intersecting Highway Number : Drop Column\n",
    "#### Manner of Collision : 4 catogories\n",
    "#### Median Type : Drop. only one value in the column\n",
    "#### Median Width : Drop. only one value in the column\n",
    "#### Number of Entering Roads : Remove Text keep no. convert to numeric, Assumed Heirarchy.\n",
    "#### Number of Lanes : impute Mode.\n",
    "#### Surface Condition : Merge and get dummies\n",
    "#### Surface Type : Drop\n",
    "#### Surface Width : impute Mode\n",
    "#### Weather Condition : Creat dummies\n",
    "#### Crash Severity : Map Serious : 1 , Not Serious : 0"
   ]
  },
  {
   "cell_type": "code",
   "execution_count": 16,
   "metadata": {},
   "outputs": [
    {
     "data": {
      "text/plain": [
       "Not serious    2286\n",
       "Serious          36\n",
       "Name: Crash Severity, dtype: int64"
      ]
     },
     "execution_count": 16,
     "metadata": {},
     "output_type": "execute_result"
    }
   ],
   "source": [
    "df_train['Crash Severity'].value_counts()"
   ]
  },
  {
   "cell_type": "code",
   "execution_count": 17,
   "metadata": {},
   "outputs": [],
   "source": [
    "df_train = pd.read_csv('train.csv')"
   ]
  },
  {
   "cell_type": "code",
   "execution_count": 18,
   "metadata": {
    "scrolled": true
   },
   "outputs": [
    {
     "data": {
      "text/plain": [
       "(2322, 19)"
      ]
     },
     "execution_count": 18,
     "metadata": {},
     "output_type": "execute_result"
    }
   ],
   "source": [
    "df_train.shape"
   ]
  },
  {
   "cell_type": "code",
   "execution_count": 19,
   "metadata": {},
   "outputs": [
    {
     "data": {
      "text/plain": [
       "NOT APPLICABLE                            2296\n",
       "STRUCTURE NOT HIT                           11\n",
       "VEHICLE RETAINED ON BRIDGE OR OVERPASS       8\n",
       "CRASH INVOLVED UNDERPASS                     6\n",
       "VEHICLE WENT OVER RAIL                       1\n",
       "Name: Bridge Detail, dtype: int64"
      ]
     },
     "execution_count": 19,
     "metadata": {},
     "output_type": "execute_result"
    }
   ],
   "source": [
    "df_train['Bridge Detail'].value_counts()"
   ]
  },
  {
   "cell_type": "code",
   "execution_count": 20,
   "metadata": {},
   "outputs": [],
   "source": [
    "#$1000 Damage to Any One Person's Property\n",
    "df_train[\"$1000 Damage to Any One Person's Property\"]= df_train[\"$1000 Damage to Any One Person's Property\"].map({'Yes':1,'No':0}).astype(int)\n",
    "\n",
    "# Bridge Detail :\n",
    "\n",
    "df_train.replace({'Bridge Detail': {'VEHICLE WENT OVER RAIL': 'APPLICABLE','VEHICLE RETAINED ON BRIDGE OR OVERPASS':'APPLICABLE',\n",
    "'STRUCTURE NOT HIT' : 'APPLICABLE',                                  \n",
    "'CRASH INVOLVED UNDERPASS': 'APPLICABLE',}}, inplace=True)\n",
    "\n",
    "df_train[\"Bridge Detail\"]= df_train[\"Bridge Detail\"].map({'NOT APPLICABLE':1,'APPLICABLE':0}).astype(int)\n",
    "                                     \n",
    "\n",
    "# Construction Zone Workers Present Flag\n",
    "df_train['Construction Zone Flag'] = df_train['Construction Zone Flag'].map({'No':1,'Yes':0}).astype(int)\n",
    "\n",
    "# Construction Zone Flag\n",
    "df_train['Construction Zone Workers Present Flag'] = df_train['Construction Zone Workers Present Flag'].map({'No':1,'Yes':0}).astype(int)\n",
    "\n",
    "# Crash Time\n",
    "\n",
    "\n",
    "# Day of the week\n",
    "cols = pd.get_dummies(df_train['Day of Week'],prefix = 'Day of the week')\n",
    "df_train[cols.columns] = cols\n",
    "\n",
    "# Crash Time : before Noon AFTER nOON : Map\n",
    "\n",
    "df_train['Crash Time'] = pd.to_numeric(df_train['Crash Time'],errors='coerce')\n",
    "\n",
    "# Manner of Collision\n",
    "\n",
    "df_train['Manner of Collision']=df_train['Manner of Collision'].str.replace('OPPOSITE DIRECTION - ONE STRAIGHT-ONE BACKING',\"OTHER\")\n",
    "df_train['Manner of Collision']=df_train['Manner of Collision'].str.replace('ANGLE - ONE STRAIGHT-ONE STOPPED',\"OTHER\")\n",
    "df_train['Manner of Collision']=df_train['Manner of Collision'].str.replace('ANGLE - ONE RIGHT TURN-ONE STOPPED',\"OTHER\")\n",
    "df_train['Manner of Collision']=df_train['Manner of Collision'].str.replace('OPPOSITE DIRECTION - ONE LEFT TURN-ONE STOPPED',\"OTHER\")\n",
    "\n",
    "cols = pd.get_dummies(df_train['Manner of Collision'],prefix = 'Manner of Collision')\n",
    "df_train[cols.columns] = cols\n",
    "\n",
    "\n",
    "\n",
    "# Number of Entering Roads\n",
    "df_train['Number of Entering Roads']=df_train['Number of Entering Roads'].str.replace('5 - FIVE ENTERING ROADS',\"98 - OTHER (EXPLAIN IN NARRATIVE)\")\n",
    "df_train['Number of Entering Roads']=df_train['Number of Entering Roads'].str.replace('6 - SIX ENTERING ROADS',\"98 - OTHER (EXPLAIN IN NARRATIVE)\")\n",
    "df_train['Number of Entering Roads']=df_train['Number of Entering Roads'].str.replace('8 - CLOVERLEAF',\"98 - OTHER (EXPLAIN IN NARRATIVE)\")\n",
    "\n",
    "cols = pd.get_dummies(df_train['Number of Entering Roads'],prefix = 'Number of Entering Roads')\n",
    "df_train[cols.columns] = cols\n",
    "\n",
    "# Number of Lanes\n",
    "df_train['Number of Lanes'] = np.where(df_train['Number of Lanes']=='No Data',df_train['Number of Lanes'].value_counts().idxmax(),df_train['Number of Lanes']).astype(int)\n",
    "#cols = pd.get_dummies(df_train['Number of Lanes'],prefix = 'Number of Lanes')\n",
    "#df_train[cols.columns] = cols\n",
    "\n",
    "# Surface Condition\n",
    "df_train['Surface Condition']=df_train['Surface Condition'].str.replace('99 - UNKNOWN',\"98 - OTHER (EXPLAIN IN NARRATIVE)\")\n",
    "df_train['Surface Condition']=df_train['Surface Condition'].str.replace('7 - SAND, MUD, DIRT',\"98 - OTHER (EXPLAIN IN NARRATIVE)\")\n",
    "\n",
    "\n",
    "cols = pd.get_dummies(df_train['Surface Condition'],prefix = 'Surface Condition')\n",
    "df_train[cols.columns] = cols\n",
    "\n",
    "\n",
    "# Surface Width\n",
    "df_train['Surface Width'] = np.where(df_train['Surface Width']=='No Data',df_train['Surface Width'].value_counts().idxmax(),df_train['Surface Width']).astype(int)\n",
    "#cols = pd.get_dummies(df_train['Surface Width'],prefix = 'Surface Width')\n",
    "#df_train[cols.columns] = cols\n",
    "\n",
    "# Weather Condition\n",
    "df_train['Weather Condition']=df_train['Weather Condition'].str.replace('99 - UNKNOWN',\"98 - OTHER (EXPLAIN IN NARRATIVE)\")\n",
    "df_train['Weather Condition']=df_train['Weather Condition'].str.replace('4 - SLEET/HAIL',\"98 - OTHER (EXPLAIN IN NARRATIVE)\")\n",
    "df_train['Weather Condition']=df_train['Weather Condition'].str.replace('5 - SNOW',\"98 - OTHER (EXPLAIN IN NARRATIVE)\")\n",
    "\n",
    "cols = pd.get_dummies(df_train['Weather Condition'],prefix = 'Weather Condition')\n",
    "df_train[cols.columns] = cols\n",
    "\n",
    "# Crash Severity\n",
    "\n",
    "df_train[\"Crash Severity\"]= df_train[\"Crash Severity\"].map({'Serious':1,'Not serious':0}).astype(int)\n",
    "\n",
    "\n",
    "# Drop columns Bridge Detail,Intersecting Highway Number,Intersecting Street Name,Surface Type,Median Type,Median Width\n",
    "\n",
    "df_train.drop(['Weather Condition','Surface Condition','Intersecting Highway Number',\n",
    "               'Intersecting Street Name','Surface Type','Number of Entering Roads','Manner of Collision','Day of Week',\n",
    "                          'Median Type','Median Width','Highway System'],axis=1,inplace=True)\n"
   ]
  },
  {
   "cell_type": "code",
   "execution_count": 21,
   "metadata": {},
   "outputs": [
    {
     "data": {
      "text/plain": [
       "51"
      ]
     },
     "execution_count": 21,
     "metadata": {},
     "output_type": "execute_result"
    }
   ],
   "source": [
    "len(df_train.columns)"
   ]
  },
  {
   "cell_type": "code",
   "execution_count": 22,
   "metadata": {},
   "outputs": [
    {
     "data": {
      "text/plain": [
       "Index(['$1000 Damage to Any One Person's Property', 'Bridge Detail',\n",
       "       'Construction Zone Flag', 'Construction Zone Workers Present Flag',\n",
       "       'Crash Time', 'Number of Lanes', 'Surface Width', 'Crash Severity',\n",
       "       'Day of the week_FRIDAY', 'Day of the week_MONDAY',\n",
       "       'Day of the week_SATURDAY', 'Day of the week_SUNDAY',\n",
       "       'Day of the week_THURSDAY', 'Day of the week_TUESDAY',\n",
       "       'Day of the week_WEDNESDAY',\n",
       "       'Manner of Collision_ANGLE - BOTH GOING STRAIGHT',\n",
       "       'Manner of Collision_ANGLE - ONE STRAIGHT-ONE BACKING',\n",
       "       'Manner of Collision_ANGLE - ONE STRAIGHT-ONE LEFT TURN',\n",
       "       'Manner of Collision_ANGLE - ONE STRAIGHT-ONE RIGHT TURN',\n",
       "       'Manner of Collision_ONE MOTOR VEHICLE - BACKING',\n",
       "       'Manner of Collision_ONE MOTOR VEHICLE - GOING STRAIGHT',\n",
       "       'Manner of Collision_ONE MOTOR VEHICLE - OTHER',\n",
       "       'Manner of Collision_ONE MOTOR VEHICLE - TURNING LEFT',\n",
       "       'Manner of Collision_ONE MOTOR VEHICLE - TURNING RIGHT',\n",
       "       'Manner of Collision_OPPOSITE DIRECTION - BOTH GOING STRAIGHT',\n",
       "       'Manner of Collision_OPPOSITE DIRECTION - ONE BACKING-ONE STOPPED',\n",
       "       'Manner of Collision_OPPOSITE DIRECTION - ONE RIGHT TURN-ONE LEFT TURN',\n",
       "       'Manner of Collision_OPPOSITE DIRECTION - ONE STRAIGHT-ONE LEFT TURN',\n",
       "       'Manner of Collision_OTHER',\n",
       "       'Manner of Collision_SAME DIRECTION - BOTH GOING STRAIGHT-REAR END',\n",
       "       'Manner of Collision_SAME DIRECTION - BOTH GOING STRAIGHT-SIDESWIPE',\n",
       "       'Manner of Collision_SAME DIRECTION - BOTH LEFT TURN',\n",
       "       'Manner of Collision_SAME DIRECTION - BOTH RIGHT TURN',\n",
       "       'Manner of Collision_SAME DIRECTION - ONE STRAIGHT-ONE LEFT TURN',\n",
       "       'Manner of Collision_SAME DIRECTION - ONE STRAIGHT-ONE RIGHT TURN',\n",
       "       'Manner of Collision_SAME DIRECTION - ONE STRAIGHT-ONE STOPPED',\n",
       "       'Number of Entering Roads_2 - THREE ENTERING ROADS - T',\n",
       "       'Number of Entering Roads_3 - THREE ENTERING ROADS - Y',\n",
       "       'Number of Entering Roads_4 - FOUR ENTERING ROADS',\n",
       "       'Number of Entering Roads_97 - NOT APPLICABLE',\n",
       "       'Number of Entering Roads_98 - OTHER (EXPLAIN IN NARRATIVE)',\n",
       "       'Surface Condition_1 - DRY', 'Surface Condition_2 - WET',\n",
       "       'Surface Condition_3 - STANDING WATER', 'Surface Condition_6 - ICE',\n",
       "       'Surface Condition_98 - OTHER (EXPLAIN IN NARRATIVE)',\n",
       "       'Weather Condition_1 - CLEAR', 'Weather Condition_2 - CLOUDY',\n",
       "       'Weather Condition_3 - RAIN', 'Weather Condition_6 - FOG',\n",
       "       'Weather Condition_98 - OTHER (EXPLAIN IN NARRATIVE)'],\n",
       "      dtype='object')"
      ]
     },
     "execution_count": 22,
     "metadata": {},
     "output_type": "execute_result"
    }
   ],
   "source": [
    "df_train.columns"
   ]
  },
  {
   "cell_type": "code",
   "execution_count": 23,
   "metadata": {
    "scrolled": true
   },
   "outputs": [
    {
     "data": {
      "text/plain": [
       "Index(['$1000 Damage to Any One Person's Property', 'Bridge Detail',\n",
       "       'Construction Zone Flag', 'Construction Zone Workers Present Flag',\n",
       "       'Crash Time', 'Number of Lanes', 'Surface Width', 'Crash Severity',\n",
       "       'Day of the week_FRIDAY', 'Day of the week_MONDAY',\n",
       "       'Day of the week_SATURDAY', 'Day of the week_SUNDAY',\n",
       "       'Day of the week_THURSDAY', 'Day of the week_TUESDAY',\n",
       "       'Day of the week_WEDNESDAY',\n",
       "       'Manner of Collision_ANGLE - BOTH GOING STRAIGHT',\n",
       "       'Manner of Collision_ANGLE - ONE STRAIGHT-ONE BACKING',\n",
       "       'Manner of Collision_ANGLE - ONE STRAIGHT-ONE LEFT TURN',\n",
       "       'Manner of Collision_ANGLE - ONE STRAIGHT-ONE RIGHT TURN',\n",
       "       'Manner of Collision_ONE MOTOR VEHICLE - BACKING',\n",
       "       'Manner of Collision_ONE MOTOR VEHICLE - GOING STRAIGHT',\n",
       "       'Manner of Collision_ONE MOTOR VEHICLE - OTHER',\n",
       "       'Manner of Collision_ONE MOTOR VEHICLE - TURNING LEFT',\n",
       "       'Manner of Collision_ONE MOTOR VEHICLE - TURNING RIGHT',\n",
       "       'Manner of Collision_OPPOSITE DIRECTION - BOTH GOING STRAIGHT',\n",
       "       'Manner of Collision_OPPOSITE DIRECTION - ONE BACKING-ONE STOPPED',\n",
       "       'Manner of Collision_OPPOSITE DIRECTION - ONE RIGHT TURN-ONE LEFT TURN',\n",
       "       'Manner of Collision_OPPOSITE DIRECTION - ONE STRAIGHT-ONE LEFT TURN',\n",
       "       'Manner of Collision_OTHER',\n",
       "       'Manner of Collision_SAME DIRECTION - BOTH GOING STRAIGHT-REAR END',\n",
       "       'Manner of Collision_SAME DIRECTION - BOTH GOING STRAIGHT-SIDESWIPE',\n",
       "       'Manner of Collision_SAME DIRECTION - BOTH LEFT TURN',\n",
       "       'Manner of Collision_SAME DIRECTION - BOTH RIGHT TURN',\n",
       "       'Manner of Collision_SAME DIRECTION - ONE STRAIGHT-ONE LEFT TURN',\n",
       "       'Manner of Collision_SAME DIRECTION - ONE STRAIGHT-ONE RIGHT TURN',\n",
       "       'Manner of Collision_SAME DIRECTION - ONE STRAIGHT-ONE STOPPED',\n",
       "       'Number of Entering Roads_2 - THREE ENTERING ROADS - T',\n",
       "       'Number of Entering Roads_3 - THREE ENTERING ROADS - Y',\n",
       "       'Number of Entering Roads_4 - FOUR ENTERING ROADS',\n",
       "       'Number of Entering Roads_97 - NOT APPLICABLE',\n",
       "       'Number of Entering Roads_98 - OTHER (EXPLAIN IN NARRATIVE)',\n",
       "       'Surface Condition_1 - DRY', 'Surface Condition_2 - WET',\n",
       "       'Surface Condition_3 - STANDING WATER', 'Surface Condition_6 - ICE',\n",
       "       'Surface Condition_98 - OTHER (EXPLAIN IN NARRATIVE)',\n",
       "       'Weather Condition_1 - CLEAR', 'Weather Condition_2 - CLOUDY',\n",
       "       'Weather Condition_3 - RAIN', 'Weather Condition_6 - FOG',\n",
       "       'Weather Condition_98 - OTHER (EXPLAIN IN NARRATIVE)'],\n",
       "      dtype='object')"
      ]
     },
     "execution_count": 23,
     "metadata": {},
     "output_type": "execute_result"
    }
   ],
   "source": [
    "df_train.columns"
   ]
  },
  {
   "cell_type": "code",
   "execution_count": 24,
   "metadata": {},
   "outputs": [
    {
     "name": "stdout",
     "output_type": "stream",
     "text": [
      "<class 'pandas.core.frame.DataFrame'>\n",
      "RangeIndex: 2322 entries, 0 to 2321\n",
      "Data columns (total 51 columns):\n",
      " #   Column                                                                 Non-Null Count  Dtype\n",
      "---  ------                                                                 --------------  -----\n",
      " 0   $1000 Damage to Any One Person's Property                              2322 non-null   int32\n",
      " 1   Bridge Detail                                                          2322 non-null   int32\n",
      " 2   Construction Zone Flag                                                 2322 non-null   int32\n",
      " 3   Construction Zone Workers Present Flag                                 2322 non-null   int32\n",
      " 4   Crash Time                                                             2322 non-null   int64\n",
      " 5   Number of Lanes                                                        2322 non-null   int32\n",
      " 6   Surface Width                                                          2322 non-null   int32\n",
      " 7   Crash Severity                                                         2322 non-null   int32\n",
      " 8   Day of the week_FRIDAY                                                 2322 non-null   uint8\n",
      " 9   Day of the week_MONDAY                                                 2322 non-null   uint8\n",
      " 10  Day of the week_SATURDAY                                               2322 non-null   uint8\n",
      " 11  Day of the week_SUNDAY                                                 2322 non-null   uint8\n",
      " 12  Day of the week_THURSDAY                                               2322 non-null   uint8\n",
      " 13  Day of the week_TUESDAY                                                2322 non-null   uint8\n",
      " 14  Day of the week_WEDNESDAY                                              2322 non-null   uint8\n",
      " 15  Manner of Collision_ANGLE - BOTH GOING STRAIGHT                        2322 non-null   uint8\n",
      " 16  Manner of Collision_ANGLE - ONE STRAIGHT-ONE BACKING                   2322 non-null   uint8\n",
      " 17  Manner of Collision_ANGLE - ONE STRAIGHT-ONE LEFT TURN                 2322 non-null   uint8\n",
      " 18  Manner of Collision_ANGLE - ONE STRAIGHT-ONE RIGHT TURN                2322 non-null   uint8\n",
      " 19  Manner of Collision_ONE MOTOR VEHICLE - BACKING                        2322 non-null   uint8\n",
      " 20  Manner of Collision_ONE MOTOR VEHICLE - GOING STRAIGHT                 2322 non-null   uint8\n",
      " 21  Manner of Collision_ONE MOTOR VEHICLE - OTHER                          2322 non-null   uint8\n",
      " 22  Manner of Collision_ONE MOTOR VEHICLE - TURNING LEFT                   2322 non-null   uint8\n",
      " 23  Manner of Collision_ONE MOTOR VEHICLE - TURNING RIGHT                  2322 non-null   uint8\n",
      " 24  Manner of Collision_OPPOSITE DIRECTION - BOTH GOING STRAIGHT           2322 non-null   uint8\n",
      " 25  Manner of Collision_OPPOSITE DIRECTION - ONE BACKING-ONE STOPPED       2322 non-null   uint8\n",
      " 26  Manner of Collision_OPPOSITE DIRECTION - ONE RIGHT TURN-ONE LEFT TURN  2322 non-null   uint8\n",
      " 27  Manner of Collision_OPPOSITE DIRECTION - ONE STRAIGHT-ONE LEFT TURN    2322 non-null   uint8\n",
      " 28  Manner of Collision_OTHER                                              2322 non-null   uint8\n",
      " 29  Manner of Collision_SAME DIRECTION - BOTH GOING STRAIGHT-REAR END      2322 non-null   uint8\n",
      " 30  Manner of Collision_SAME DIRECTION - BOTH GOING STRAIGHT-SIDESWIPE     2322 non-null   uint8\n",
      " 31  Manner of Collision_SAME DIRECTION - BOTH LEFT TURN                    2322 non-null   uint8\n",
      " 32  Manner of Collision_SAME DIRECTION - BOTH RIGHT TURN                   2322 non-null   uint8\n",
      " 33  Manner of Collision_SAME DIRECTION - ONE STRAIGHT-ONE LEFT TURN        2322 non-null   uint8\n",
      " 34  Manner of Collision_SAME DIRECTION - ONE STRAIGHT-ONE RIGHT TURN       2322 non-null   uint8\n",
      " 35  Manner of Collision_SAME DIRECTION - ONE STRAIGHT-ONE STOPPED          2322 non-null   uint8\n",
      " 36  Number of Entering Roads_2 - THREE ENTERING ROADS - T                  2322 non-null   uint8\n",
      " 37  Number of Entering Roads_3 - THREE ENTERING ROADS - Y                  2322 non-null   uint8\n",
      " 38  Number of Entering Roads_4 - FOUR ENTERING ROADS                       2322 non-null   uint8\n",
      " 39  Number of Entering Roads_97 - NOT APPLICABLE                           2322 non-null   uint8\n",
      " 40  Number of Entering Roads_98 - OTHER (EXPLAIN IN NARRATIVE)             2322 non-null   uint8\n",
      " 41  Surface Condition_1 - DRY                                              2322 non-null   uint8\n",
      " 42  Surface Condition_2 - WET                                              2322 non-null   uint8\n",
      " 43  Surface Condition_3 - STANDING WATER                                   2322 non-null   uint8\n",
      " 44  Surface Condition_6 - ICE                                              2322 non-null   uint8\n",
      " 45  Surface Condition_98 - OTHER (EXPLAIN IN NARRATIVE)                    2322 non-null   uint8\n",
      " 46  Weather Condition_1 - CLEAR                                            2322 non-null   uint8\n",
      " 47  Weather Condition_2 - CLOUDY                                           2322 non-null   uint8\n",
      " 48  Weather Condition_3 - RAIN                                             2322 non-null   uint8\n",
      " 49  Weather Condition_6 - FOG                                              2322 non-null   uint8\n",
      " 50  Weather Condition_98 - OTHER (EXPLAIN IN NARRATIVE)                    2322 non-null   uint8\n",
      "dtypes: int32(7), int64(1), uint8(43)\n",
      "memory usage: 179.3 KB\n"
     ]
    }
   ],
   "source": [
    "df_train.info()"
   ]
  },
  {
   "cell_type": "code",
   "execution_count": null,
   "metadata": {},
   "outputs": [],
   "source": []
  },
  {
   "cell_type": "markdown",
   "metadata": {},
   "source": [
    "# Preprocessing ``test.csv`` (10 points)"
   ]
  },
  {
   "cell_type": "markdown",
   "metadata": {},
   "source": [
    "#### Applying the same Pre - processing to the test dataset"
   ]
  },
  {
   "cell_type": "code",
   "execution_count": 25,
   "metadata": {},
   "outputs": [],
   "source": [
    "df_test = pd.read_csv('test.csv')"
   ]
  },
  {
   "cell_type": "code",
   "execution_count": 26,
   "metadata": {},
   "outputs": [
    {
     "data": {
      "text/plain": [
       "NOT APPLICABLE                            772\n",
       "STRUCTURE NOT HIT                           1\n",
       "VEHICLE RETAINED ON BRIDGE OR OVERPASS      1\n",
       "Name: Bridge Detail, dtype: int64"
      ]
     },
     "execution_count": 26,
     "metadata": {},
     "output_type": "execute_result"
    }
   ],
   "source": [
    "df_test['Bridge Detail'].value_counts()"
   ]
  },
  {
   "cell_type": "code",
   "execution_count": 27,
   "metadata": {},
   "outputs": [],
   "source": [
    "#$1000 Damage to Any One Person's Property\n",
    "df_test[\"$1000 Damage to Any One Person's Property\"]= df_test[\"$1000 Damage to Any One Person's Property\"].map({'Yes':1,'No':0}).astype(int)\n",
    "\n",
    "# Bridge Detail : \n",
    "\n",
    "df_test.replace({'Bridge Detail': {'VEHICLE WENT OVER RAIL': 'APPLICABLE','VEHICLE RETAINED ON BRIDGE OR OVERPASS':'APPLICABLE',\n",
    "'STRUCTURE NOT HIT' : 'APPLICABLE',                                  \n",
    "'CRASH INVOLVED UNDERPASS': 'APPLICABLE',}}, inplace=True)\n",
    "\n",
    "df_test[\"Bridge Detail\"]= df_test[\"Bridge Detail\"].map({'NOT APPLICABLE':1,'APPLICABLE':0}).astype(int)\n",
    "\n",
    "# Construction Zone Workers Present Flag\n",
    "df_test['Construction Zone Flag'] = df_test['Construction Zone Flag'].map({'No':1,'Yes':0}).astype(int)\n",
    "\n",
    "# Construction Zone Flag\n",
    "df_test['Construction Zone Workers Present Flag'] = df_test['Construction Zone Workers Present Flag'].map({'No':1,'Yes':0}).astype(int)\n",
    "\n",
    "# Crash Time\n",
    "\n",
    "\n",
    "# Day of the week\n",
    "cols = pd.get_dummies(df_test['Day of Week'],prefix = 'Day of the week')\n",
    "df_test[cols.columns] = cols\n",
    "\n",
    "# Crash Time : before Noon AFTER nOON : Map\n",
    "\n",
    "df_test['Crash Time'] = pd.to_numeric(df_test['Crash Time'],errors='coerce')\n",
    "\n",
    "# Manner of Collision\n",
    "df_test['Manner of Collision']=df_test['Manner of Collision'].str.replace('ANGLE - ONE LEFT TURN-ONE STOPPED',\"OTHER\")\n",
    "cols = pd.get_dummies(df_test['Manner of Collision'],prefix = 'Manner of Collision')\n",
    "df_test[cols.columns] = cols\n",
    "\n",
    "\n",
    "\n",
    "# Number of Entering Roads\n",
    "df_test.replace({'Number of Entering Roads': {'6 - SIX ENTERING ROADS': '98 - OTHER (EXPLAIN IN NARRATIVE)',\n",
    "'7 - TRAFFIC CIRCLE': '98 - OTHER (EXPLAIN IN NARRATIVE)',\n",
    "'8 - CLOVERLEAF': '98 - OTHER (EXPLAIN IN NARRATIVE)'}}, inplace=True)\n",
    "\n",
    "cols = pd.get_dummies(df_test['Number of Entering Roads'],prefix = 'Number of Entering Roads')\n",
    "df_test[cols.columns] = cols\n",
    "\n",
    "# Number of Lanes\n",
    "df_test['Number of Lanes'] = np.where(df_test['Number of Lanes']=='No Data',df_test['Number of Lanes'].value_counts().idxmax(),df_test['Number of Lanes']).astype(int)\n",
    "#cols = pd.get_dummies(df_test['Number of Lanes'],prefix = 'Number of Lanes')\n",
    "#df_test[cols.columns] = cols\n",
    "\n",
    "# Surface Condition\n",
    "df_test['Manner of Collision']=df_test['Manner of Collision'].str.replace('ANGLE - ONE LEFT TURN-ONE STOPPED',\"OTHER\")\n",
    "cols = pd.get_dummies(df_test['Surface Condition'],prefix = 'Surface Condition')\n",
    "df_test[cols.columns] = cols\n",
    "\n",
    "\n",
    "# Surface Width\n",
    "df_test['Surface Width'] = np.where(df_test['Surface Width']=='No Data',df_test['Surface Width'].value_counts().idxmax(),df_test['Surface Width']).astype(int)\n",
    "#cols = pd.get_dummies(df_test['Surface Width'],prefix = 'Surface Width')\n",
    "#df_test[cols.columns] = cols\n",
    "\n",
    "# Weather Condition\n",
    "cols = pd.get_dummies(df_test['Weather Condition'],prefix = 'Weather Condition')\n",
    "df_test[cols.columns] = cols\n",
    "\n",
    "# Drop columns Bridge Detail,Intersecting Highway Number,Intersecting Street Name,Surface Type,Median Type,Median Width\n",
    "\n",
    "df_test.drop(['Weather Condition','Surface Condition','Intersecting Highway Number',\n",
    "               'Intersecting Street Name','Surface Type','Number of Entering Roads','Manner of Collision','Day of Week',\n",
    "                          'Median Type','Median Width','Highway System'],axis=1,inplace=True)\n"
   ]
  },
  {
   "cell_type": "code",
   "execution_count": 28,
   "metadata": {},
   "outputs": [
    {
     "data": {
      "text/plain": [
       "50"
      ]
     },
     "execution_count": 28,
     "metadata": {},
     "output_type": "execute_result"
    }
   ],
   "source": [
    "len(df_test.columns)"
   ]
  },
  {
   "cell_type": "code",
   "execution_count": 29,
   "metadata": {},
   "outputs": [
    {
     "name": "stdout",
     "output_type": "stream",
     "text": [
      "<class 'pandas.core.frame.DataFrame'>\n",
      "RangeIndex: 774 entries, 0 to 773\n",
      "Data columns (total 50 columns):\n",
      " #   Column                                                                 Non-Null Count  Dtype\n",
      "---  ------                                                                 --------------  -----\n",
      " 0   $1000 Damage to Any One Person's Property                              774 non-null    int32\n",
      " 1   Bridge Detail                                                          774 non-null    int32\n",
      " 2   Construction Zone Flag                                                 774 non-null    int32\n",
      " 3   Construction Zone Workers Present Flag                                 774 non-null    int32\n",
      " 4   Crash Time                                                             774 non-null    int64\n",
      " 5   Number of Lanes                                                        774 non-null    int32\n",
      " 6   Surface Width                                                          774 non-null    int32\n",
      " 7   Day of the week_FRIDAY                                                 774 non-null    uint8\n",
      " 8   Day of the week_MONDAY                                                 774 non-null    uint8\n",
      " 9   Day of the week_SATURDAY                                               774 non-null    uint8\n",
      " 10  Day of the week_SUNDAY                                                 774 non-null    uint8\n",
      " 11  Day of the week_THURSDAY                                               774 non-null    uint8\n",
      " 12  Day of the week_TUESDAY                                                774 non-null    uint8\n",
      " 13  Day of the week_WEDNESDAY                                              774 non-null    uint8\n",
      " 14  Manner of Collision_ANGLE - BOTH GOING STRAIGHT                        774 non-null    uint8\n",
      " 15  Manner of Collision_ANGLE - ONE STRAIGHT-ONE BACKING                   774 non-null    uint8\n",
      " 16  Manner of Collision_ANGLE - ONE STRAIGHT-ONE LEFT TURN                 774 non-null    uint8\n",
      " 17  Manner of Collision_ANGLE - ONE STRAIGHT-ONE RIGHT TURN                774 non-null    uint8\n",
      " 18  Manner of Collision_ONE MOTOR VEHICLE - BACKING                        774 non-null    uint8\n",
      " 19  Manner of Collision_ONE MOTOR VEHICLE - GOING STRAIGHT                 774 non-null    uint8\n",
      " 20  Manner of Collision_ONE MOTOR VEHICLE - OTHER                          774 non-null    uint8\n",
      " 21  Manner of Collision_ONE MOTOR VEHICLE - TURNING LEFT                   774 non-null    uint8\n",
      " 22  Manner of Collision_ONE MOTOR VEHICLE - TURNING RIGHT                  774 non-null    uint8\n",
      " 23  Manner of Collision_OPPOSITE DIRECTION - BOTH GOING STRAIGHT           774 non-null    uint8\n",
      " 24  Manner of Collision_OPPOSITE DIRECTION - ONE BACKING-ONE STOPPED       774 non-null    uint8\n",
      " 25  Manner of Collision_OPPOSITE DIRECTION - ONE RIGHT TURN-ONE LEFT TURN  774 non-null    uint8\n",
      " 26  Manner of Collision_OPPOSITE DIRECTION - ONE STRAIGHT-ONE LEFT TURN    774 non-null    uint8\n",
      " 27  Manner of Collision_OTHER                                              774 non-null    uint8\n",
      " 28  Manner of Collision_SAME DIRECTION - BOTH GOING STRAIGHT-REAR END      774 non-null    uint8\n",
      " 29  Manner of Collision_SAME DIRECTION - BOTH GOING STRAIGHT-SIDESWIPE     774 non-null    uint8\n",
      " 30  Manner of Collision_SAME DIRECTION - BOTH LEFT TURN                    774 non-null    uint8\n",
      " 31  Manner of Collision_SAME DIRECTION - BOTH RIGHT TURN                   774 non-null    uint8\n",
      " 32  Manner of Collision_SAME DIRECTION - ONE STRAIGHT-ONE LEFT TURN        774 non-null    uint8\n",
      " 33  Manner of Collision_SAME DIRECTION - ONE STRAIGHT-ONE RIGHT TURN       774 non-null    uint8\n",
      " 34  Manner of Collision_SAME DIRECTION - ONE STRAIGHT-ONE STOPPED          774 non-null    uint8\n",
      " 35  Number of Entering Roads_2 - THREE ENTERING ROADS - T                  774 non-null    uint8\n",
      " 36  Number of Entering Roads_3 - THREE ENTERING ROADS - Y                  774 non-null    uint8\n",
      " 37  Number of Entering Roads_4 - FOUR ENTERING ROADS                       774 non-null    uint8\n",
      " 38  Number of Entering Roads_97 - NOT APPLICABLE                           774 non-null    uint8\n",
      " 39  Number of Entering Roads_98 - OTHER (EXPLAIN IN NARRATIVE)             774 non-null    uint8\n",
      " 40  Surface Condition_1 - DRY                                              774 non-null    uint8\n",
      " 41  Surface Condition_2 - WET                                              774 non-null    uint8\n",
      " 42  Surface Condition_3 - STANDING WATER                                   774 non-null    uint8\n",
      " 43  Surface Condition_6 - ICE                                              774 non-null    uint8\n",
      " 44  Surface Condition_98 - OTHER (EXPLAIN IN NARRATIVE)                    774 non-null    uint8\n",
      " 45  Weather Condition_1 - CLEAR                                            774 non-null    uint8\n",
      " 46  Weather Condition_2 - CLOUDY                                           774 non-null    uint8\n",
      " 47  Weather Condition_3 - RAIN                                             774 non-null    uint8\n",
      " 48  Weather Condition_6 - FOG                                              774 non-null    uint8\n",
      " 49  Weather Condition_98 - OTHER (EXPLAIN IN NARRATIVE)                    774 non-null    uint8\n",
      "dtypes: int32(6), int64(1), uint8(43)\n",
      "memory usage: 56.8 KB\n"
     ]
    }
   ],
   "source": [
    "df_test.info()"
   ]
  },
  {
   "cell_type": "code",
   "execution_count": null,
   "metadata": {},
   "outputs": [],
   "source": []
  },
  {
   "cell_type": "code",
   "execution_count": null,
   "metadata": {},
   "outputs": [],
   "source": []
  },
  {
   "cell_type": "markdown",
   "metadata": {},
   "source": [
    "# Machine learning models (20 points)"
   ]
  },
  {
   "cell_type": "code",
   "execution_count": 30,
   "metadata": {},
   "outputs": [],
   "source": [
    "from sklearn.neighbors import KNeighborsClassifier\n",
    "from sklearn.metrics import confusion_matrix"
   ]
  },
  {
   "cell_type": "code",
   "execution_count": 31,
   "metadata": {},
   "outputs": [
    {
     "name": "stdout",
     "output_type": "stream",
     "text": [
      "Feature Set:  (2322, 50)\n",
      "Target Variable:  (2322,)\n"
     ]
    }
   ],
   "source": [
    "x = df_train.drop(['Crash Severity'],axis=1)\n",
    "y = df_train['Crash Severity']\n",
    "\n",
    "\n",
    "\n",
    "print('Feature Set: ', x.shape)\n",
    "print('Target Variable: ', y.shape)\n",
    "\n",
    "\n",
    "\n",
    "# Splitting the dataset\n",
    "x_train_og, x_test_og, y_train, y_test = train_test_split(x, y, random_state = 0, test_size = 0.2)\n",
    "\n",
    "# Transforming to Min Max Scaler\n",
    "scaler = MinMaxScaler()\n",
    "\n",
    "x_train = scaler.fit_transform(x_train_og)\n",
    "x_test = scaler.transform(x_test_og)\n"
   ]
  },
  {
   "cell_type": "code",
   "execution_count": 32,
   "metadata": {},
   "outputs": [
    {
     "data": {
      "text/plain": [
       "(1857, 50)"
      ]
     },
     "execution_count": 32,
     "metadata": {},
     "output_type": "execute_result"
    }
   ],
   "source": [
    "x_train.shape"
   ]
  },
  {
   "cell_type": "markdown",
   "metadata": {},
   "source": [
    "#### Imbalanced Dataset We will apply models and post process them"
   ]
  },
  {
   "cell_type": "code",
   "execution_count": 33,
   "metadata": {},
   "outputs": [],
   "source": [
    "from sklearn.neighbors import KNeighborsClassifier\n",
    "\n",
    "train_score_array = []\n",
    "test_score_array = []\n",
    "\n",
    "for k in range(1,20):\n",
    "    knn = KNeighborsClassifier(k)\n",
    "    knn.fit(x_train, y_train)\n",
    "    train_score_array.append(knn.score(x_train, y_train))\n",
    "    test_score_array.append(knn.score(x_test, y_test))"
   ]
  },
  {
   "cell_type": "code",
   "execution_count": 34,
   "metadata": {},
   "outputs": [
    {
     "data": {
      "text/plain": [
       "<matplotlib.legend.Legend at 0x1d70cb97940>"
      ]
     },
     "execution_count": 34,
     "metadata": {},
     "output_type": "execute_result"
    },
    {
     "data": {
      "image/png": "[encoded data removed]",
      "text/plain": [
       "<Figure size 1440x1440 with 1 Axes>"
      ]
     },
     "metadata": {
      "needs_background": "light"
     },
     "output_type": "display_data"
    }
   ],
   "source": [
    "x_axis = range(1,20)\n",
    "%matplotlib inline\n",
    "\n",
    "plt.subplots(figsize = (20,20))\n",
    "plt.plot(x_axis, train_score_array, label = 'Train Score', c = 'g')\n",
    "plt.plot(x_axis, test_score_array, label = 'Test Score', c='b')\n",
    "plt.xlabel('n_neighbors')\n",
    "plt.ylabel('Accuracy')\n",
    "#plt.xticks(x_axis, np.arange(20))\n",
    "plt.grid()\n",
    "plt.legend()"
   ]
  },
  {
   "cell_type": "markdown",
   "metadata": {},
   "source": [
    "#### Grid Search"
   ]
  },
  {
   "cell_type": "code",
   "execution_count": 35,
   "metadata": {},
   "outputs": [
    {
     "name": "stdout",
     "output_type": "stream",
     "text": [
      "GrideSearch knn score : 0.690974000049904\n",
      "GrideSearch knn parameters : {'metric': 'euclidean', 'n_neighbors': 14, 'p': 1, 'weights': 'distance'}\n"
     ]
    }
   ],
   "source": [
    "from sklearn.model_selection import GridSearchCV\n",
    "paramgridknn = {'n_neighbors':range(1,20), \n",
    "                  'p': [1,2],\n",
    "                'weights': ['distance','uniform'],\n",
    "                'metric': ['euclidean','manhattan'],\n",
    "                   }\n",
    "\n",
    "gsknn = GridSearchCV(KNeighborsClassifier(), paramgridknn , cv = 5,scoring='roc_auc')\n",
    "gs_model = gsknn.fit(x_train, y_train)\n",
    "print('GrideSearch knn score :',gs_model.best_score_)\n",
    "print('GrideSearch knn parameters :',gs_model.best_params_)"
   ]
  },
  {
   "cell_type": "code",
   "execution_count": 36,
   "metadata": {},
   "outputs": [
    {
     "name": "stdout",
     "output_type": "stream",
     "text": [
      "Knn train score: 1.0000 \n",
      "Knn test score: 0.6163 \n"
     ]
    }
   ],
   "source": [
    "\n",
    "y_pred_knncs = gs_model.predict(x_test)\n",
    "\n",
    "print('Knn train score: {:.4f} '.format(gs_model.score(x_train, y_train)))\n",
    "print('Knn test score: {:.4f} '.format(gs_model.score(x_test, y_test)))"
   ]
  },
  {
   "cell_type": "code",
   "execution_count": 37,
   "metadata": {
    "scrolled": true
   },
   "outputs": [
    {
     "data": {
      "image/png": "[encoded data removed]",
      "text/plain": [
       "<Figure size 432x288 with 1 Axes>"
      ]
     },
     "metadata": {
      "needs_background": "light"
     },
     "output_type": "display_data"
    }
   ],
   "source": [
    "import mglearn\n",
    "%matplotlib inline\n",
    "\n",
    "scoresimage_ = mglearn.tools.heatmap(\n",
    "    confusion_matrix(y_test,y_pred_knncs), xlabel = 'Predicted label',\n",
    "    ylabel='True label', xticklabels = ['No:0','Yes:1'],\n",
    "    yticklabels=['No:0','Yes:1'], fmt=\"%d\")\n",
    "plt.title(\"Confusion matrix\")\n",
    "plt.gca().invert_yaxis()"
   ]
  },
  {
   "cell_type": "code",
   "execution_count": 38,
   "metadata": {},
   "outputs": [
    {
     "data": {
      "text/plain": [
       "0    458\n",
       "1      7\n",
       "Name: Crash Severity, dtype: int64"
      ]
     },
     "execution_count": 38,
     "metadata": {},
     "output_type": "execute_result"
    }
   ],
   "source": [
    "y_test.value_counts()"
   ]
  },
  {
   "cell_type": "code",
   "execution_count": 39,
   "metadata": {},
   "outputs": [
    {
     "name": "stdout",
     "output_type": "stream",
     "text": [
      "KNN Recall score : 0.0000 \n",
      "KNN Precision score : 0.0000 \n",
      "KNN F1 score : 0.0000 \n"
     ]
    }
   ],
   "source": [
    "from sklearn.metrics import recall_score , precision_score, f1_score\n",
    "from sklearn.metrics import roc_auc_score\n",
    "\n",
    "Knn_recall_Score = recall_score(y_test, gs_model.predict(x_test))\n",
    "print('KNN Recall score : {:.4f} '.format(recall_score(y_test, gs_model.predict(x_test))))\n",
    "\n",
    "Knn_Precision_Score = precision_score(y_test, gs_model.predict(x_test))\n",
    "print('KNN Precision score : {:.4f} '.format(precision_score(y_test, gs_model.predict(x_test))))\n",
    "\n",
    "Knn_f1_Score = f1_score(y_test, gs_model.predict(x_test))\n",
    "print('KNN F1 score : {:.4f} '.format(f1_score(y_test, gs_model.predict(x_test))))"
   ]
  },
  {
   "cell_type": "code",
   "execution_count": 40,
   "metadata": {},
   "outputs": [
    {
     "data": {
      "text/plain": [
       "<matplotlib.legend.Legend at 0x1d709a76640>"
      ]
     },
     "execution_count": 40,
     "metadata": {},
     "output_type": "execute_result"
    },
    {
     "data": {
      "image/png": "[encoded data removed]",
      "text/plain": [
       "<Figure size 432x288 with 1 Axes>"
      ]
     },
     "metadata": {
      "needs_background": "light"
     },
     "output_type": "display_data"
    }
   ],
   "source": [
    "import mglearn\n",
    "from sklearn.metrics import precision_recall_curve\n",
    "%matplotlib inline\n",
    "precision, recall, thresholds = precision_recall_curve(y_test, gs_model.predict_proba(x_test)[:,1])\n",
    "\n",
    "cl_z = np.argmin(np.abs(thresholds-0.5))\n",
    "\n",
    "plt.plot(precision[cl_z], recall[cl_z], 'o', markersize=10,\n",
    "         label = \"thresholds-0.5\", fillstyle = \"none\", c = 'k', mew = 2)\n",
    "\n",
    "plt.plot(precision, recall, label=\"precision recall curve\")\n",
    "plt.xlabel(\"Precision\")\n",
    "plt.ylabel(\"Recall\")\n",
    "plt.legend(loc=\"best\")"
   ]
  },
  {
   "cell_type": "code",
   "execution_count": 41,
   "metadata": {},
   "outputs": [],
   "source": [
    "i = np.argmin(np.abs(recall - 0.19))"
   ]
  },
  {
   "cell_type": "code",
   "execution_count": 42,
   "metadata": {
    "scrolled": true
   },
   "outputs": [
    {
     "name": "stdout",
     "output_type": "stream",
     "text": [
      "After the post processing: \n",
      "Precision:  0.9354838709677419\n",
      "Recall:  0.14285714285714285\n"
     ]
    }
   ],
   "source": [
    "from sklearn.metrics import precision_score, recall_score\n",
    "\n",
    "y_predict_test = np.where(gs_model.predict_proba(x_test) >= thresholds[i], 1, 0)\n",
    "y_predict_train = np.where(gs_model.predict_proba(x_train) >= thresholds[i], 1, 0)\n",
    "print('After the post processing: ')                              \n",
    "print('Precision: ', precision_score(y_train, y_predict_train[:,1]))\n",
    "print('Recall: ', recall_score(y_test,y_predict_test[:,1]))"
   ]
  },
  {
   "cell_type": "code",
   "execution_count": 43,
   "metadata": {},
   "outputs": [
    {
     "data": {
      "image/png": "[encoded data removed]",
      "text/plain": [
       "<Figure size 1440x360 with 1 Axes>"
      ]
     },
     "metadata": {
      "needs_background": "light"
     },
     "output_type": "display_data"
    }
   ],
   "source": [
    "%matplotlib inline \n",
    "\n",
    "from sklearn.metrics import roc_curve\n",
    "fpr, tpr, thresholds = roc_curve(y_test, gs_model.predict_proba(x_test)[:,1])\n",
    "\n",
    "np.argmin(np.abs(tpr - 0.42))\n",
    "\n",
    "plt.subplots(figsize = (20,5))\n",
    "plt.plot(fpr, tpr, label=\"ROC Curve\")\n",
    "plt.xlabel(\"FPR\")\n",
    "plt.ylabel(\"TPR (recall)\")\n",
    "# find threshold closest to zero\n",
    "close_zero = np.argmin(np.abs(thresholds-0.5))\n",
    "plt.plot(fpr[7], tpr[7], 'o', markersize=10,\n",
    "         label=\"threshold zero\", fillstyle=\"none\", c='k', mew=2)\n",
    "plt.legend(loc=4)\n",
    "plt.grid()"
   ]
  },
  {
   "cell_type": "code",
   "execution_count": 44,
   "metadata": {},
   "outputs": [],
   "source": [
    "i = np.argmin(np.abs(tpr - 0.4))"
   ]
  },
  {
   "cell_type": "code",
   "execution_count": 45,
   "metadata": {},
   "outputs": [
    {
     "name": "stdout",
     "output_type": "stream",
     "text": [
      "After the post processing: \n",
      "Precision:  0.038461538461538464\n",
      "Recall:  0.42857142857142855\n",
      "F1-score:  0.07058823529411765\n"
     ]
    }
   ],
   "source": [
    "from sklearn.metrics import precision_score, recall_score\n",
    "\n",
    "y_predict_test = np.where(gs_model.predict_proba(x_test) >= thresholds[i], 1, 0)\n",
    "y_predict_train = np.where(gs_model.predict_proba(x_train) >= thresholds[i], 1, 0)\n",
    "print('After the post processing: ')\n",
    "post_precision = precision_score(y_train, y_predict_train[:,1])\n",
    "post_recall =  recall_score(y_test,y_predict_test[:,1])\n",
    "post_f1_score =  f1_score(y_test,y_predict_test[:,1])\n",
    "print('Precision: ', precision_score(y_test, y_predict_test[:,1]))\n",
    "print('Recall: ', recall_score(y_test,y_predict_test[:,1]))\n",
    "print('F1-score: ', f1_score(y_test,y_predict_test[:,1]))                               "
   ]
  },
  {
   "cell_type": "code",
   "execution_count": 46,
   "metadata": {},
   "outputs": [
    {
     "name": "stdout",
     "output_type": "stream",
     "text": [
      "Summary of Knn: [['KNN Classification', {'metric': 'euclidean', 'n_neighbors': 14, 'p': 1, 'weights': 'distance'}, 0.9999811363464876, 0.6163443543356206, 0.42857142857142855, 0.9354838709677419, 0.6324079850280724, 0.07058823529411765]]\n"
     ]
    }
   ],
   "source": [
    "CompTable = [['KNN Classification', gs_model.best_params_, gs_model.score(x_train, y_train),gs_model.score(x_test, y_test),\n",
    "              post_recall,post_precision,\n",
    "              roc_auc_score(y_test, y_predict_test[:,1]),\n",
    "              post_f1_score]]\n",
    "print('Summary of Knn:',CompTable)"
   ]
  },
  {
   "cell_type": "markdown",
   "metadata": {},
   "source": [
    "### Logistic Regression"
   ]
  },
  {
   "cell_type": "code",
   "execution_count": 47,
   "metadata": {},
   "outputs": [],
   "source": [
    "import warnings\n",
    "warnings.filterwarnings('ignore')"
   ]
  },
  {
   "cell_type": "code",
   "execution_count": 48,
   "metadata": {},
   "outputs": [
    {
     "name": "stdout",
     "output_type": "stream",
     "text": [
      "Fitting 5 folds for each of 7960 candidates, totalling 39800 fits\n",
      "Best logistic grid search score 0.7113324350625048\n",
      "Best logistic grid search Parameter {'C': 0.11421052631578947, 'max_iter': 13, 'penalty': 'l2'}\n"
     ]
    }
   ],
   "source": [
    "param_grid_log = { 'max_iter' : range(1,200), \n",
    "                  'penalty' : ['l1','l2'],\n",
    "                'C' :np.linspace(0.01,1,20)}\n",
    "\n",
    "gslog = GridSearchCV(estimator = LogisticRegression(), param_grid = param_grid_log, cv = 5, verbose = 1, n_jobs = -1,scoring='roc_auc')\n",
    "gs_model = gslog.fit(x_train, y_train)\n",
    "\n",
    "print('Best logistic grid search score',gs_model.best_score_)\n",
    "print('Best logistic grid search Parameter',gslog.best_params_)"
   ]
  },
  {
   "cell_type": "code",
   "execution_count": 49,
   "metadata": {},
   "outputs": [
    {
     "data": {
      "image/png": "[encoded data removed]",
      "text/plain": [
       "<Figure size 432x288 with 1 Axes>"
      ]
     },
     "metadata": {
      "needs_background": "light"
     },
     "output_type": "display_data"
    }
   ],
   "source": [
    "import mglearn\n",
    "%matplotlib inline\n",
    "\n",
    "y_pred = gs_model.predict(x_test)\n",
    "scoresimage_ = mglearn.tools.heatmap(\n",
    "    confusion_matrix(y_test,y_pred_knncs), xlabel = 'Predicted label',\n",
    "    ylabel='True label', xticklabels = ['No:0','Yes:1'],\n",
    "    yticklabels=['No:0','Yes:1'], fmt=\"%d\")\n",
    "plt.title(\"Confusion matrix\")\n",
    "plt.gca().invert_yaxis()"
   ]
  },
  {
   "cell_type": "code",
   "execution_count": null,
   "metadata": {},
   "outputs": [],
   "source": []
  },
  {
   "cell_type": "code",
   "execution_count": 50,
   "metadata": {},
   "outputs": [
    {
     "name": "stdout",
     "output_type": "stream",
     "text": [
      "Log Recall score : 0.0000 \n",
      "Log Precision score : 0.0000 \n",
      "Log F1 score : 0.0000 \n"
     ]
    }
   ],
   "source": [
    "from sklearn.metrics import recall_score , precision_score, f1_score\n",
    "from sklearn.metrics import roc_auc_score\n",
    "\n",
    "Knn_recall_Score = recall_score(y_test, gs_model.predict(x_test))\n",
    "print('Log Recall score : {:.4f} '.format(recall_score(y_test, gs_model.predict(x_test))))\n",
    "\n",
    "Knn_Precision_Score = precision_score(y_test, gs_model.predict(x_test))\n",
    "print('Log Precision score : {:.4f} '.format(precision_score(y_test, gs_model.predict(x_test))))\n",
    "\n",
    "Knn_f1_Score = f1_score(y_test, gs_model.predict(x_test))\n",
    "print('Log F1 score : {:.4f} '.format(f1_score(y_test, gs_model.predict(x_test))))"
   ]
  },
  {
   "cell_type": "code",
   "execution_count": 51,
   "metadata": {
    "scrolled": true
   },
   "outputs": [
    {
     "data": {
      "text/plain": [
       "<matplotlib.legend.Legend at 0x1d70e263b80>"
      ]
     },
     "execution_count": 51,
     "metadata": {},
     "output_type": "execute_result"
    },
    {
     "data": {
      "image/png": "[encoded data removed]",
      "text/plain": [
       "<Figure size 432x288 with 1 Axes>"
      ]
     },
     "metadata": {
      "needs_background": "light"
     },
     "output_type": "display_data"
    }
   ],
   "source": [
    "import mglearn\n",
    "from sklearn.metrics import precision_recall_curve\n",
    "%matplotlib inline\n",
    "precision, recall, thresholds = precision_recall_curve(y_test, gs_model.predict_proba(x_test)[:,1])\n",
    "\n",
    "cl_z = np.argmin(np.abs(thresholds-0.5))\n",
    "\n",
    "plt.plot(precision[cl_z], recall[cl_z], 'o', markersize=10,\n",
    "         label = \"thresholds-0.5\", fillstyle = \"none\", c = 'k', mew = 2)\n",
    "\n",
    "plt.plot(precision, recall, label=\"precision recall curve\")\n",
    "plt.xlabel(\"Precision\")\n",
    "plt.ylabel(\"Recall\")\n",
    "plt.legend(loc=\"best\")"
   ]
  },
  {
   "cell_type": "code",
   "execution_count": 52,
   "metadata": {},
   "outputs": [],
   "source": [
    "i = np.argmin(np.abs(recall - 0.35))"
   ]
  },
  {
   "cell_type": "code",
   "execution_count": 53,
   "metadata": {},
   "outputs": [
    {
     "name": "stdout",
     "output_type": "stream",
     "text": [
      "After the post processing: \n",
      "Precision:  0.06550218340611354\n",
      "Recall:  0.2857142857142857\n"
     ]
    }
   ],
   "source": [
    "from sklearn.metrics import precision_score, recall_score\n",
    "\n",
    "y_predict_test = np.where(gs_model.predict_proba(x_test) >= thresholds[i], 1, 0)\n",
    "y_predict_train = np.where(gs_model.predict_proba(x_train) >= thresholds[i], 1, 0)\n",
    "print('After the post processing: ')                              \n",
    "print('Precision: ', precision_score(y_train, y_predict_train[:,1]))\n",
    "print('Recall: ', recall_score(y_test,y_predict_test[:,1]))"
   ]
  },
  {
   "cell_type": "code",
   "execution_count": 54,
   "metadata": {},
   "outputs": [
    {
     "data": {
      "image/png": "[encoded data removed]",
      "text/plain": [
       "<Figure size 1440x360 with 1 Axes>"
      ]
     },
     "metadata": {
      "needs_background": "light"
     },
     "output_type": "display_data"
    }
   ],
   "source": [
    "%matplotlib inline \n",
    "\n",
    "from sklearn.metrics import roc_curve\n",
    "fpr, tpr, thresholds = roc_curve(y_test, gs_model.predict_proba(x_test)[:,1])\n",
    "\n",
    "i = np.argmin(np.abs(tpr - 0.6))\n",
    "\n",
    "plt.subplots(figsize = (20,5))\n",
    "plt.plot(fpr, tpr, label=\"ROC Curve\")\n",
    "plt.xlabel(\"FPR\")\n",
    "plt.ylabel(\"TPR (recall)\")\n",
    "# find threshold closest to zero\n",
    "close_zero = np.argmin(np.abs(thresholds-0.5))\n",
    "plt.plot(fpr[i], tpr[i], 'o', markersize=10,\n",
    "         label=\"threshold zero\", fillstyle=\"none\", c='k', mew=2)\n",
    "plt.legend(loc=4)\n",
    "plt.grid()"
   ]
  },
  {
   "cell_type": "code",
   "execution_count": 55,
   "metadata": {},
   "outputs": [
    {
     "name": "stdout",
     "output_type": "stream",
     "text": [
      "After the post processing: \n",
      "Precision:  0.05572755417956656\n",
      "Recall:  0.5714285714285714\n",
      "F1-score:  0.0975609756097561\n"
     ]
    }
   ],
   "source": [
    "from sklearn.metrics import precision_score, recall_score\n",
    "\n",
    "y_predict_test = np.where(gs_model.predict_proba(x_test) >= thresholds[i], 1, 0)\n",
    "y_predict_train = np.where(gs_model.predict_proba(x_train) >= thresholds[i], 1, 0)\n",
    "print('After the post processing: ')\n",
    "post_precision = precision_score(y_train, y_predict_train[:,1])\n",
    "post_recall =  recall_score(y_test,y_predict_test[:,1])\n",
    "post_f1_score =  f1_score(y_test,y_predict_test[:,1])\n",
    "print('Precision: ', precision_score(y_train, y_predict_train[:,1]))\n",
    "print('Recall: ', recall_score(y_test,y_predict_test[:,1]))\n",
    "print('F1-score: ', f1_score(y_test,y_predict_test[:,1]))                               "
   ]
  },
  {
   "cell_type": "code",
   "execution_count": 56,
   "metadata": {},
   "outputs": [
    {
     "name": "stdout",
     "output_type": "stream",
     "text": [
      "Summary [['KNN Classification', {'metric': 'euclidean', 'n_neighbors': 14, 'p': 1, 'weights': 'distance'}, 0.9999811363464876, 0.6163443543356206, 0.42857142857142855, 0.9354838709677419, 0.6324079850280724, 0.07058823529411765], ['Log Classification', {'C': 0.11421052631578947, 'max_iter': 13, 'penalty': 'l2'}, 0.8140232400211272, 0.732064878353088, 0.5714285714285714, 0.05572755417956656, 0.708203368683718, 0.0975609756097561]]\n"
     ]
    }
   ],
   "source": [
    "CompTable = CompTable +[['Log Classification', gs_model.best_params_, gs_model.score(x_train, y_train),gs_model.score(x_test, y_test),\n",
    "              post_recall,post_precision,\n",
    "              roc_auc_score(y_test, y_predict_test[:,1]),\n",
    "              post_f1_score]]\n",
    "print('Summary',CompTable)"
   ]
  },
  {
   "cell_type": "code",
   "execution_count": null,
   "metadata": {},
   "outputs": [],
   "source": []
  },
  {
   "cell_type": "markdown",
   "metadata": {},
   "source": [
    "### Linear SVM"
   ]
  },
  {
   "cell_type": "code",
   "execution_count": 57,
   "metadata": {},
   "outputs": [
    {
     "name": "stdout",
     "output_type": "stream",
     "text": [
      "Best grid search score for SVM : 0.7320458118122615\n",
      "Best grid search Parameter for SVM : {'C': 1000, 'max_iter': 16}\n"
     ]
    }
   ],
   "source": [
    "from sklearn.svm import LinearSVC,SVC\n",
    "paramgridsvm = { 'max_iter' : range(1,150),\n",
    "                'C' : [1,10,100,1000,10000]}\n",
    "\n",
    "gs_model = GridSearchCV(estimator =LinearSVC(), param_grid = paramgridsvm ,cv = 5, n_jobs = -1,scoring='roc_auc')\n",
    "\n",
    "gs_model= gs_model.fit(x_train, y_train)\n",
    "print('Best grid search score for SVM :',gs_model.best_score_)\n",
    "print('Best grid search Parameter for SVM :',gs_model.best_params_)"
   ]
  },
  {
   "cell_type": "code",
   "execution_count": 58,
   "metadata": {},
   "outputs": [
    {
     "data": {
      "image/png": "[encoded data removed]",
      "text/plain": [
       "<Figure size 432x288 with 1 Axes>"
      ]
     },
     "metadata": {
      "needs_background": "light"
     },
     "output_type": "display_data"
    }
   ],
   "source": [
    "import mglearn\n",
    "%matplotlib inline\n",
    "\n",
    "y_pred = gs_model.predict(x_test)\n",
    "scoresimage_ = mglearn.tools.heatmap(\n",
    "    confusion_matrix(y_test,y_pred_knncs), xlabel = 'Predicted label',\n",
    "    ylabel='True label', xticklabels = ['No:0','Yes:1'],\n",
    "    yticklabels=['No:0','Yes:1'], fmt=\"%d\")\n",
    "plt.title(\"Confusion matrix\")\n",
    "plt.gca().invert_yaxis()"
   ]
  },
  {
   "cell_type": "code",
   "execution_count": 59,
   "metadata": {},
   "outputs": [
    {
     "name": "stdout",
     "output_type": "stream",
     "text": [
      "Log Recall score : 0.0000 \n",
      "Log Precision score : 0.0000 \n",
      "Log F1 score : 0.0000 \n"
     ]
    }
   ],
   "source": [
    "from sklearn.metrics import recall_score , precision_score, f1_score\n",
    "from sklearn.metrics import roc_auc_score\n",
    "\n",
    "Knn_recall_Score = recall_score(y_test, gs_model.predict(x_test))\n",
    "print('Log Recall score : {:.4f} '.format(recall_score(y_test, gs_model.predict(x_test))))\n",
    "\n",
    "Knn_Precision_Score = precision_score(y_test, gs_model.predict(x_test))\n",
    "print('Log Precision score : {:.4f} '.format(precision_score(y_test, gs_model.predict(x_test))))\n",
    "\n",
    "Knn_f1_Score = f1_score(y_test, gs_model.predict(x_test))\n",
    "print('Log F1 score : {:.4f} '.format(f1_score(y_test, gs_model.predict(x_test))))"
   ]
  },
  {
   "cell_type": "code",
   "execution_count": 60,
   "metadata": {},
   "outputs": [
    {
     "data": {
      "text/plain": [
       "<matplotlib.legend.Legend at 0x1d70f96d5b0>"
      ]
     },
     "execution_count": 60,
     "metadata": {},
     "output_type": "execute_result"
    },
    {
     "data": {
      "image/png": "[encoded data removed]",
      "text/plain": [
       "<Figure size 432x288 with 1 Axes>"
      ]
     },
     "metadata": {
      "needs_background": "light"
     },
     "output_type": "display_data"
    }
   ],
   "source": [
    "import mglearn\n",
    "from sklearn.metrics import precision_recall_curve\n",
    "%matplotlib inline\n",
    "precision, recall, thresholds = precision_recall_curve(y_test, gs_model.decision_function(x_test))\n",
    "\n",
    "cl_z = np.argmin(np.abs(thresholds))\n",
    "\n",
    "plt.plot(precision[cl_z], recall[cl_z], 'o', markersize=10,\n",
    "         label = \"thresholds-0.5\", fillstyle = \"none\", c = 'k', mew = 2)\n",
    "\n",
    "plt.plot(precision, recall, label=\"precision recall curve\")\n",
    "plt.xlabel(\"Precision\")\n",
    "plt.ylabel(\"Recall\")\n",
    "plt.legend(loc=\"best\")"
   ]
  },
  {
   "cell_type": "code",
   "execution_count": 61,
   "metadata": {},
   "outputs": [],
   "source": [
    "i = np.argmin(np.abs(recall - 0.60))"
   ]
  },
  {
   "cell_type": "code",
   "execution_count": 62,
   "metadata": {},
   "outputs": [
    {
     "name": "stdout",
     "output_type": "stream",
     "text": [
      "After the post processing: \n",
      "Precision:  0.02768166089965398\n",
      "Recall:  0.5714285714285714\n"
     ]
    }
   ],
   "source": [
    "from sklearn.metrics import precision_score, recall_score\n",
    "\n",
    "y_predict_test = np.where(gs_model.decision_function(x_test) >= thresholds[i], 1, 0)\n",
    "y_predict_train = np.where(gs_model.decision_function(x_train) >= thresholds[i], 1, 0)\n",
    "print('After the post processing: ')                              \n",
    "print('Precision: ', precision_score(y_train, y_predict_train))\n",
    "print('Recall: ', recall_score(y_test,y_predict_test))"
   ]
  },
  {
   "cell_type": "code",
   "execution_count": 63,
   "metadata": {},
   "outputs": [
    {
     "data": {
      "image/png": "[encoded data removed]",
      "text/plain": [
       "<Figure size 1440x360 with 1 Axes>"
      ]
     },
     "metadata": {
      "needs_background": "light"
     },
     "output_type": "display_data"
    }
   ],
   "source": [
    "%matplotlib inline \n",
    "\n",
    "from sklearn.metrics import roc_curve\n",
    "fpr, tpr, thresholds = roc_curve(y_test, gs_model.decision_function(x_test))\n",
    "\n",
    "i = np.argmin(np.abs(tpr - 0.6))\n",
    "\n",
    "plt.subplots(figsize = (20,5))\n",
    "plt.plot(fpr, tpr, label=\"ROC Curve\")\n",
    "plt.xlabel(\"FPR\")\n",
    "plt.ylabel(\"TPR (recall)\")\n",
    "# find threshold closest to zero\n",
    "close_zero = np.argmin(np.abs(thresholds-0.5))\n",
    "plt.plot(fpr[i], tpr[i], 'o', markersize=10,\n",
    "         label=\"threshold zero\", fillstyle=\"none\", c='k', mew=2)\n",
    "plt.legend(loc=4)\n",
    "plt.grid()"
   ]
  },
  {
   "cell_type": "code",
   "execution_count": 64,
   "metadata": {},
   "outputs": [
    {
     "name": "stdout",
     "output_type": "stream",
     "text": [
      "After the post processing: \n",
      "Precision:  0.02997275204359673\n",
      "Recall:  0.5714285714285714\n",
      "F1-score:  0.0425531914893617\n"
     ]
    }
   ],
   "source": [
    "from sklearn.metrics import precision_score, recall_score\n",
    "\n",
    "y_predict_test = np.where(gs_model.decision_function(x_test) >= thresholds[i], 1, 0)\n",
    "y_predict_train = np.where(gs_model.decision_function(x_train) >= thresholds[i], 1, 0)\n",
    "print('After the post processing: ')\n",
    "post_precision = precision_score(y_train, y_predict_train)\n",
    "post_recall =  recall_score(y_test,y_predict_test)\n",
    "post_f1_score =  f1_score(y_test,y_predict_test)\n",
    "print('Precision: ', precision_score(y_train, y_predict_train))\n",
    "print('Recall: ', recall_score(y_test,y_predict_test))\n",
    "print('F1-score: ', f1_score(y_test,y_predict_test))                               "
   ]
  },
  {
   "cell_type": "code",
   "execution_count": 65,
   "metadata": {},
   "outputs": [
    {
     "name": "stdout",
     "output_type": "stream",
     "text": [
      "Summary [['KNN Classification', {'metric': 'euclidean', 'n_neighbors': 14, 'p': 1, 'weights': 'distance'}, 0.9999811363464876, 0.6163443543356206, 0.42857142857142855, 0.9354838709677419, 0.6324079850280724, 0.07058823529411765], ['Log Classification', {'C': 0.11421052631578947, 'max_iter': 13, 'penalty': 'l2'}, 0.8140232400211272, 0.732064878353088, 0.5714285714285714, 0.05572755417956656, 0.708203368683718, 0.0975609756097561], ['Linear SVM', {'C': 1000, 'max_iter': 16}, 0.7853882139892855, 0.641609482220836, 0.5714285714285714, 0.02997275204359673, 0.5924828446662508, 0.0425531914893617]]\n"
     ]
    }
   ],
   "source": [
    "CompTable = CompTable +[['Linear SVM', gs_model.best_params_, gs_model.score(x_train, y_train),gs_model.score(x_test, y_test),\n",
    "              post_recall,post_precision,\n",
    "              roc_auc_score(y_test, y_predict_test),\n",
    "              post_f1_score]]\n",
    "print('Summary',CompTable)"
   ]
  },
  {
   "cell_type": "code",
   "execution_count": null,
   "metadata": {},
   "outputs": [],
   "source": []
  },
  {
   "cell_type": "markdown",
   "metadata": {},
   "source": [
    "### Kernel SVC rbf"
   ]
  },
  {
   "cell_type": "code",
   "execution_count": 66,
   "metadata": {},
   "outputs": [],
   "source": [
    "from sklearn.svm import LinearSVC\n",
    "from sklearn import svm\n",
    "from sklearn import metrics"
   ]
  },
  {
   "cell_type": "code",
   "execution_count": 67,
   "metadata": {},
   "outputs": [
    {
     "name": "stdout",
     "output_type": "stream",
     "text": [
      "Best score- Kernelized SVM grid serach:  0.6938695511141054\n",
      "Best parameters- Kernelized SVM grid serach:  {'C': 10, 'gamma': 0.001, 'kernel': 'rbf'}\n"
     ]
    }
   ],
   "source": [
    "from sklearn.model_selection import GridSearchCV\n",
    "\n",
    "paramgridsvm = {'C':[10,12],\n",
    "                    'gamma':[0.0001, 0.001,0.1], \n",
    "                    'kernel':['rbf']}\n",
    "gs_model = SVC()\n",
    "gs_model = GridSearchCV(gs_model, paramgridsvm, cv = 5, n_jobs= -1,scoring='roc_auc')\n",
    "gs_model.fit(x_train,y_train)\n",
    "print(\"Best score- Kernelized SVM grid serach: \",gs_model.best_score_)\n",
    "print(\"Best parameters- Kernelized SVM grid serach: \",gs_model.best_params_)"
   ]
  },
  {
   "cell_type": "code",
   "execution_count": 68,
   "metadata": {},
   "outputs": [
    {
     "data": {
      "image/png": "[encoded data removed]",
      "text/plain": [
       "<Figure size 432x288 with 1 Axes>"
      ]
     },
     "metadata": {
      "needs_background": "light"
     },
     "output_type": "display_data"
    }
   ],
   "source": [
    "import mglearn\n",
    "%matplotlib inline\n",
    "\n",
    "y_pred = gs_model.predict(x_test)\n",
    "scoresimage_ = mglearn.tools.heatmap(\n",
    "    confusion_matrix(y_test,y_pred_knncs), xlabel = 'Predicted label',\n",
    "    ylabel='True label', xticklabels = ['No:0','Yes:1'],\n",
    "    yticklabels=['No:0','Yes:1'], fmt=\"%d\")\n",
    "plt.title(\"Confusion matrix\")\n",
    "plt.gca().invert_yaxis()"
   ]
  },
  {
   "cell_type": "code",
   "execution_count": 69,
   "metadata": {},
   "outputs": [
    {
     "name": "stdout",
     "output_type": "stream",
     "text": [
      "Log Recall score : 0.0000 \n",
      "Log Precision score : 0.0000 \n",
      "Log F1 score : 0.0000 \n"
     ]
    }
   ],
   "source": [
    "from sklearn.metrics import recall_score , precision_score, f1_score\n",
    "from sklearn.metrics import roc_auc_score\n",
    "\n",
    "Knn_recall_Score = recall_score(y_test, gs_model.predict(x_test))\n",
    "print('Log Recall score : {:.4f} '.format(recall_score(y_test, gs_model.predict(x_test))))\n",
    "\n",
    "Knn_Precision_Score = precision_score(y_test, gs_model.predict(x_test))\n",
    "print('Log Precision score : {:.4f} '.format(precision_score(y_test, gs_model.predict(x_test))))\n",
    "\n",
    "Knn_f1_Score = f1_score(y_test, gs_model.predict(x_test))\n",
    "print('Log F1 score : {:.4f} '.format(f1_score(y_test, gs_model.predict(x_test))))"
   ]
  },
  {
   "cell_type": "code",
   "execution_count": 70,
   "metadata": {},
   "outputs": [
    {
     "data": {
      "text/plain": [
       "<matplotlib.legend.Legend at 0x1d70cbea190>"
      ]
     },
     "execution_count": 70,
     "metadata": {},
     "output_type": "execute_result"
    },
    {
     "data": {
      "image/png": "[encoded data removed]",
      "text/plain": [
       "<Figure size 432x288 with 1 Axes>"
      ]
     },
     "metadata": {
      "needs_background": "light"
     },
     "output_type": "display_data"
    }
   ],
   "source": [
    "import mglearn\n",
    "from sklearn.metrics import precision_recall_curve\n",
    "%matplotlib inline\n",
    "precision, recall, thresholds = precision_recall_curve(y_test, gs_model.decision_function(x_test))\n",
    "\n",
    "cl_z = np.argmin(np.abs(thresholds-0.5))\n",
    "\n",
    "plt.plot(precision[cl_z], recall[cl_z], 'o', markersize=10,\n",
    "         label = \"thresholds-0.5\", fillstyle = \"none\", c = 'k', mew = 2)\n",
    "\n",
    "plt.plot(precision, recall, label=\"precision recall curve\")\n",
    "plt.xlabel(\"Precision\")\n",
    "plt.ylabel(\"Recall\")\n",
    "plt.legend(loc=\"best\")"
   ]
  },
  {
   "cell_type": "code",
   "execution_count": 71,
   "metadata": {},
   "outputs": [],
   "source": [
    "i = np.argmin(np.abs(recall - 0.20))"
   ]
  },
  {
   "cell_type": "code",
   "execution_count": 72,
   "metadata": {},
   "outputs": [
    {
     "name": "stdout",
     "output_type": "stream",
     "text": [
      "After the post processing: \n",
      "Precision:  0.039711191335740074\n",
      "Recall:  0.14285714285714285\n"
     ]
    }
   ],
   "source": [
    "from sklearn.metrics import precision_score, recall_score\n",
    "\n",
    "y_predict_test = np.where(gs_model.decision_function(x_test) >= thresholds[i], 1, 0)\n",
    "y_predict_train = np.where(gs_model.decision_function(x_train) >= thresholds[i], 1, 0)\n",
    "print('After the post processing: ')                              \n",
    "print('Precision: ', precision_score(y_train, y_predict_train))\n",
    "print('Recall: ', recall_score(y_test,y_predict_test))"
   ]
  },
  {
   "cell_type": "code",
   "execution_count": 73,
   "metadata": {},
   "outputs": [
    {
     "data": {
      "image/png": "[encoded data removed]",
      "text/plain": [
       "<Figure size 1440x360 with 1 Axes>"
      ]
     },
     "metadata": {
      "needs_background": "light"
     },
     "output_type": "display_data"
    }
   ],
   "source": [
    "%matplotlib inline \n",
    "\n",
    "from sklearn.metrics import roc_curve\n",
    "fpr, tpr, thresholds = roc_curve(y_test, gs_model.decision_function(x_test))\n",
    "\n",
    "i = np.argmin(np.abs(tpr - 0.4))\n",
    "\n",
    "plt.subplots(figsize = (20,5))\n",
    "plt.plot(fpr, tpr, label=\"ROC Curve\")\n",
    "plt.xlabel(\"FPR\")\n",
    "plt.ylabel(\"TPR (recall)\")\n",
    "# find threshold closest to zero\n",
    "close_zero = np.argmin(np.abs(thresholds-0.5))\n",
    "plt.plot(fpr[i], tpr[i], 'o', markersize=10,\n",
    "         label=\"threshold zero\", fillstyle=\"none\", c='k', mew=2)\n",
    "plt.legend(loc=4)\n",
    "plt.grid()"
   ]
  },
  {
   "cell_type": "code",
   "execution_count": 74,
   "metadata": {},
   "outputs": [
    {
     "name": "stdout",
     "output_type": "stream",
     "text": [
      "After the post processing: \n",
      "Precision:  0.02867383512544803\n",
      "Recall:  0.42857142857142855\n",
      "F1-score:  0.036585365853658534\n"
     ]
    }
   ],
   "source": [
    "from sklearn.metrics import precision_score, recall_score\n",
    "\n",
    "y_predict_test = np.where(gs_model.decision_function(x_test) >= thresholds[i], 1, 0)\n",
    "y_predict_train = np.where(gs_model.decision_function(x_train) >= thresholds[i], 1, 0)\n",
    "print('After the post processing: ')\n",
    "post_precision = precision_score(y_train, y_predict_train)\n",
    "post_recall =  recall_score(y_test,y_predict_test)\n",
    "post_f1_score =  f1_score(y_test,y_predict_test)\n",
    "print('Precision: ', precision_score(y_train, y_predict_train))\n",
    "print('Recall: ', recall_score(y_test,y_predict_test))\n",
    "print('F1-score: ', f1_score(y_test,y_predict_test))                               "
   ]
  },
  {
   "cell_type": "code",
   "execution_count": 75,
   "metadata": {},
   "outputs": [
    {
     "name": "stdout",
     "output_type": "stream",
     "text": [
      "Summary [['KNN Classification', {'metric': 'euclidean', 'n_neighbors': 14, 'p': 1, 'weights': 'distance'}, 0.9999811363464876, 0.6163443543356206, 0.42857142857142855, 0.9354838709677419, 0.6324079850280724, 0.07058823529411765], ['Log Classification', {'C': 0.11421052631578947, 'max_iter': 13, 'penalty': 'l2'}, 0.8140232400211272, 0.732064878353088, 0.5714285714285714, 0.05572755417956656, 0.708203368683718, 0.0975609756097561], ['Linear SVM', {'C': 1000, 'max_iter': 16}, 0.7853882139892855, 0.641609482220836, 0.5714285714285714, 0.02997275204359673, 0.5924828446662508, 0.0425531914893617], ['Kernel rbf SVC', {'C': 10, 'gamma': 0.001, 'kernel': 'rbf'}, 0.6973515430468574, 0.5106051154086089, 0.42857142857142855, 0.02867383512544803, 0.5461634435433562, 0.036585365853658534]]\n"
     ]
    }
   ],
   "source": [
    "CompTable = CompTable +[['Kernel rbf SVC', gs_model.best_params_, gs_model.score(x_train, y_train),gs_model.score(x_test, y_test),\n",
    "              post_recall,post_precision,\n",
    "              roc_auc_score(y_test, y_predict_test),\n",
    "              post_f1_score]]\n",
    "print('Summary',CompTable)"
   ]
  },
  {
   "cell_type": "markdown",
   "metadata": {},
   "source": [
    "#### Kenrnel type Linear"
   ]
  },
  {
   "cell_type": "code",
   "execution_count": 76,
   "metadata": {},
   "outputs": [
    {
     "name": "stdout",
     "output_type": "stream",
     "text": [
      "Best score- Kernelized SVM grid serach:  0.666452828305512\n",
      "Best parameters- Kernelized SVM grid serach:  {'C': 0.1, 'kernel': 'linear'}\n"
     ]
    }
   ],
   "source": [
    "from sklearn.model_selection import GridSearchCV\n",
    "\n",
    "paramgridsvm = {'C':[0.1,1,10,12], \n",
    "                    'kernel':['linear']}\n",
    "gs_model = SVC()\n",
    "gs_model = GridSearchCV(gs_model, paramgridsvm, cv = 5, n_jobs= -1,scoring='roc_auc')\n",
    "gs_model.fit(x_train,y_train)\n",
    "print(\"Best score- Kernelized SVM grid serach: \",gs_model.best_score_)\n",
    "print(\"Best parameters- Kernelized SVM grid serach: \",gs_model.best_params_)"
   ]
  },
  {
   "cell_type": "code",
   "execution_count": 77,
   "metadata": {},
   "outputs": [
    {
     "data": {
      "image/png": "[encoded data removed]",
      "text/plain": [
       "<Figure size 432x288 with 1 Axes>"
      ]
     },
     "metadata": {
      "needs_background": "light"
     },
     "output_type": "display_data"
    }
   ],
   "source": [
    "import mglearn\n",
    "%matplotlib inline\n",
    "\n",
    "y_pred = gs_model.predict(x_test)\n",
    "scoresimage_ = mglearn.tools.heatmap(\n",
    "    confusion_matrix(y_test,y_pred_knncs), xlabel = 'Predicted label',\n",
    "    ylabel='True label', xticklabels = ['No:0','Yes:1'],\n",
    "    yticklabels=['No:0','Yes:1'], fmt=\"%d\")\n",
    "plt.title(\"Confusion matrix \")\n",
    "plt.gca().invert_yaxis()"
   ]
  },
  {
   "cell_type": "code",
   "execution_count": 78,
   "metadata": {},
   "outputs": [
    {
     "name": "stdout",
     "output_type": "stream",
     "text": [
      "Log Recall score : 0.0000 \n",
      "Log Precision score : 0.0000 \n",
      "Log F1 score : 0.0000 \n"
     ]
    }
   ],
   "source": [
    "from sklearn.metrics import recall_score , precision_score, f1_score\n",
    "from sklearn.metrics import roc_auc_score\n",
    "\n",
    "Knn_recall_Score = recall_score(y_test, gs_model.predict(x_test))\n",
    "print('Log Recall score : {:.4f} '.format(recall_score(y_test, gs_model.predict(x_test))))\n",
    "\n",
    "Knn_Precision_Score = precision_score(y_test, gs_model.predict(x_test))\n",
    "print('Log Precision score : {:.4f} '.format(precision_score(y_test, gs_model.predict(x_test))))\n",
    "\n",
    "Knn_f1_Score = f1_score(y_test, gs_model.predict(x_test))\n",
    "print('Log F1 score : {:.4f} '.format(f1_score(y_test, gs_model.predict(x_test))))"
   ]
  },
  {
   "cell_type": "code",
   "execution_count": 79,
   "metadata": {},
   "outputs": [
    {
     "data": {
      "text/plain": [
       "<matplotlib.legend.Legend at 0x1d70e3434f0>"
      ]
     },
     "execution_count": 79,
     "metadata": {},
     "output_type": "execute_result"
    },
    {
     "data": {
      "image/png": "[encoded data removed]",
      "text/plain": [
       "<Figure size 432x288 with 1 Axes>"
      ]
     },
     "metadata": {
      "needs_background": "light"
     },
     "output_type": "display_data"
    }
   ],
   "source": [
    "import mglearn\n",
    "from sklearn.metrics import precision_recall_curve\n",
    "%matplotlib inline\n",
    "precision, recall, thresholds = precision_recall_curve(y_test, gs_model.decision_function(x_test))\n",
    "\n",
    "cl_z = np.argmin(np.abs(thresholds-0.5))\n",
    "\n",
    "plt.plot(precision[cl_z], recall[cl_z], 'o', markersize=10,\n",
    "         label = \"thresholds-0.5\", fillstyle = \"none\", c = 'k', mew = 2)\n",
    "\n",
    "plt.plot(precision, recall, label=\"precision recall curve\")\n",
    "plt.xlabel(\"Precision\")\n",
    "plt.ylabel(\"Recall\")\n",
    "plt.legend(loc=\"best\")"
   ]
  },
  {
   "cell_type": "code",
   "execution_count": 80,
   "metadata": {},
   "outputs": [],
   "source": [
    "i = np.argmin(np.abs(recall - 0.30))"
   ]
  },
  {
   "cell_type": "code",
   "execution_count": 81,
   "metadata": {},
   "outputs": [
    {
     "name": "stdout",
     "output_type": "stream",
     "text": [
      "After the post processing: \n",
      "Precision:  0.046511627906976744\n",
      "Recall:  0.2857142857142857\n"
     ]
    }
   ],
   "source": [
    "from sklearn.metrics import precision_score, recall_score\n",
    "\n",
    "y_predict_test = np.where(gs_model.decision_function(x_test) >= thresholds[i], 1, 0)\n",
    "y_predict_train = np.where(gs_model.decision_function(x_train) >= thresholds[i], 1, 0)\n",
    "print('After the post processing: ')                              \n",
    "print('Precision: ', precision_score(y_train, y_predict_train))\n",
    "print('Recall: ', recall_score(y_test,y_predict_test))"
   ]
  },
  {
   "cell_type": "code",
   "execution_count": 82,
   "metadata": {},
   "outputs": [
    {
     "data": {
      "image/png": "[encoded data removed]",
      "text/plain": [
       "<Figure size 1440x360 with 1 Axes>"
      ]
     },
     "metadata": {
      "needs_background": "light"
     },
     "output_type": "display_data"
    }
   ],
   "source": [
    "%matplotlib inline \n",
    "\n",
    "from sklearn.metrics import roc_curve\n",
    "fpr, tpr, thresholds = roc_curve(y_test, gs_model.decision_function(x_test))\n",
    "\n",
    "i = np.argmin(np.abs(tpr - 0.4))\n",
    "\n",
    "plt.subplots(figsize = (20,5))\n",
    "plt.plot(fpr, tpr, label=\"ROC Curve\")\n",
    "plt.xlabel(\"FPR\")\n",
    "plt.ylabel(\"TPR (recall)\")\n",
    "# find threshold closest to zero\n",
    "close_zero = np.argmin(np.abs(thresholds-0.5))\n",
    "plt.plot(fpr[i], tpr[i], 'o', markersize=10,\n",
    "         label=\"threshold zero\", fillstyle=\"none\", c='k', mew=2)\n",
    "plt.legend(loc=4)\n",
    "plt.grid()"
   ]
  },
  {
   "cell_type": "code",
   "execution_count": 83,
   "metadata": {},
   "outputs": [
    {
     "name": "stdout",
     "output_type": "stream",
     "text": [
      "After the post processing: \n",
      "Precision:  0.045112781954887216\n",
      "Recall:  0.42857142857142855\n",
      "F1-score:  0.0923076923076923\n"
     ]
    }
   ],
   "source": [
    "from sklearn.metrics import precision_score, recall_score\n",
    "\n",
    "y_predict_test = np.where(gs_model.decision_function(x_test) >= thresholds[i], 1, 0)\n",
    "y_predict_train = np.where(gs_model.decision_function(x_train) >= thresholds[i], 1, 0)\n",
    "print('After the post processing: ')\n",
    "post_precision = precision_score(y_train, y_predict_train)\n",
    "post_recall =  recall_score(y_test,y_predict_test)\n",
    "post_f1_score =  f1_score(y_test,y_predict_test)\n",
    "print('Precision: ', precision_score(y_train, y_predict_train))\n",
    "print('Recall: ', recall_score(y_test,y_predict_test))\n",
    "print('F1-score: ', f1_score(y_test,y_predict_test))                               "
   ]
  },
  {
   "cell_type": "code",
   "execution_count": 84,
   "metadata": {},
   "outputs": [
    {
     "name": "stdout",
     "output_type": "stream",
     "text": [
      "Summary [['KNN Classification', {'metric': 'euclidean', 'n_neighbors': 14, 'p': 1, 'weights': 'distance'}, 0.9999811363464876, 0.6163443543356206, 0.42857142857142855, 0.9354838709677419, 0.6324079850280724, 0.07058823529411765], ['Log Classification', {'C': 0.11421052631578947, 'max_iter': 13, 'penalty': 'l2'}, 0.8140232400211272, 0.732064878353088, 0.5714285714285714, 0.05572755417956656, 0.708203368683718, 0.0975609756097561], ['Linear SVM', {'C': 1000, 'max_iter': 16}, 0.7853882139892855, 0.641609482220836, 0.5714285714285714, 0.02997275204359673, 0.5924828446662508, 0.0425531914893617], ['Kernel rbf SVC', {'C': 10, 'gamma': 0.001, 'kernel': 'rbf'}, 0.6973515430468574, 0.5106051154086089, 0.42857142857142855, 0.02867383512544803, 0.5461634435433562, 0.036585365853658534], ['Kernel linear SVC', {'C': 0.1, 'kernel': 'linear'}, 0.7087451897683543, 0.5149719276356831, 0.42857142857142855, 0.045112781954887216, 0.6542420461634436, 0.0923076923076923]]\n"
     ]
    }
   ],
   "source": [
    "CompTable = CompTable +[['Kernel linear SVC', gs_model.best_params_, gs_model.score(x_train, y_train),gs_model.score(x_test, y_test),\n",
    "              post_recall,post_precision,\n",
    "              roc_auc_score(y_test, y_predict_test),\n",
    "              post_f1_score]]\n",
    "print('Summary',CompTable)"
   ]
  },
  {
   "cell_type": "code",
   "execution_count": null,
   "metadata": {},
   "outputs": [],
   "source": []
  },
  {
   "cell_type": "markdown",
   "metadata": {},
   "source": [
    "#### Kenrnel type poly"
   ]
  },
  {
   "cell_type": "code",
   "execution_count": 85,
   "metadata": {},
   "outputs": [
    {
     "name": "stdout",
     "output_type": "stream",
     "text": [
      "Best score- Kernelized SVM grid serach:  0.5775971255333483\n",
      "Best parameters- Kernelized SVM grid serach:  {'C': 10, 'gamma': 0.1, 'kernel': 'poly'}\n"
     ]
    }
   ],
   "source": [
    "from sklearn.model_selection import GridSearchCV\n",
    "\n",
    "paramgridsvm = {'C':[10,12],\n",
    "                    'gamma':[0.0001, 0.001,0.1], \n",
    "                    'kernel':['poly']}\n",
    "gs_model = SVC()\n",
    "gs_model = GridSearchCV(gs_model, paramgridsvm, cv = 5, n_jobs= -1,scoring='roc_auc')\n",
    "gs_model.fit(x_train,y_train)\n",
    "print(\"Best score- Kernelized SVM grid serach: \",gs_model.best_score_)\n",
    "print(\"Best parameters- Kernelized SVM grid serach: \",gs_model.best_params_)"
   ]
  },
  {
   "cell_type": "code",
   "execution_count": 86,
   "metadata": {},
   "outputs": [
    {
     "data": {
      "image/png": "[encoded data removed]",
      "text/plain": [
       "<Figure size 432x288 with 1 Axes>"
      ]
     },
     "metadata": {
      "needs_background": "light"
     },
     "output_type": "display_data"
    }
   ],
   "source": [
    "import mglearn\n",
    "%matplotlib inline\n",
    "\n",
    "y_pred = gs_model.predict(x_test)\n",
    "scoresimage_ = mglearn.tools.heatmap(\n",
    "    confusion_matrix(y_test,y_pred_knncs), xlabel = 'Predicted label',\n",
    "    ylabel='True label', xticklabels = ['No:0','Yes:1'],\n",
    "    yticklabels=['No:0','Yes:1'], fmt=\"%d\")\n",
    "plt.title(\"Confusion matrix\")\n",
    "plt.gca().invert_yaxis()"
   ]
  },
  {
   "cell_type": "code",
   "execution_count": 87,
   "metadata": {},
   "outputs": [
    {
     "name": "stdout",
     "output_type": "stream",
     "text": [
      "Log Recall score : 0.0000 \n",
      "Log Precision score : 0.0000 \n",
      "Log F1 score : 0.0000 \n"
     ]
    }
   ],
   "source": [
    "from sklearn.metrics import recall_score , precision_score, f1_score\n",
    "from sklearn.metrics import roc_auc_score\n",
    "\n",
    "Knn_recall_Score = recall_score(y_test, gs_model.predict(x_test))\n",
    "print('Log Recall score : {:.4f} '.format(recall_score(y_test, gs_model.predict(x_test))))\n",
    "\n",
    "Knn_Precision_Score = precision_score(y_test, gs_model.predict(x_test))\n",
    "print('Log Precision score : {:.4f} '.format(precision_score(y_test, gs_model.predict(x_test))))\n",
    "\n",
    "Knn_f1_Score = f1_score(y_test, gs_model.predict(x_test))\n",
    "print('Log F1 score : {:.4f} '.format(f1_score(y_test, gs_model.predict(x_test))))"
   ]
  },
  {
   "cell_type": "code",
   "execution_count": 88,
   "metadata": {},
   "outputs": [
    {
     "data": {
      "text/plain": [
       "<matplotlib.legend.Legend at 0x1d70e2ce6d0>"
      ]
     },
     "execution_count": 88,
     "metadata": {},
     "output_type": "execute_result"
    },
    {
     "data": {
      "image/png": "[encoded data removed]",
      "text/plain": [
       "<Figure size 432x288 with 1 Axes>"
      ]
     },
     "metadata": {
      "needs_background": "light"
     },
     "output_type": "display_data"
    }
   ],
   "source": [
    "import mglearn\n",
    "from sklearn.metrics import precision_recall_curve\n",
    "%matplotlib inline\n",
    "precision, recall, thresholds = precision_recall_curve(y_test, gs_model.decision_function(x_test))\n",
    "\n",
    "cl_z = np.argmin(np.abs(thresholds-0.5))\n",
    "\n",
    "plt.plot(precision[cl_z], recall[cl_z], 'o', markersize=10,\n",
    "         label = \"thresholds-0.5\", fillstyle = \"none\", c = 'k', mew = 2)\n",
    "\n",
    "plt.plot(precision, recall, label=\"precision recall curve\")\n",
    "plt.xlabel(\"Precision\")\n",
    "plt.ylabel(\"Recall\")\n",
    "plt.legend(loc=\"best\")"
   ]
  },
  {
   "cell_type": "markdown",
   "metadata": {},
   "source": [
    "###  Changing the Treshold to improve scores"
   ]
  },
  {
   "cell_type": "code",
   "execution_count": 89,
   "metadata": {},
   "outputs": [],
   "source": [
    "i = np.argmin(np.abs(recall - 0.30))"
   ]
  },
  {
   "cell_type": "code",
   "execution_count": 90,
   "metadata": {},
   "outputs": [
    {
     "name": "stdout",
     "output_type": "stream",
     "text": [
      "After the post processing: \n",
      "Precision:  0.08695652173913043\n",
      "Recall:  0.2857142857142857\n"
     ]
    }
   ],
   "source": [
    "from sklearn.metrics import precision_score, recall_score\n",
    "\n",
    "y_predict_test = np.where(gs_model.decision_function(x_test) >= thresholds[i], 1, 0)\n",
    "y_predict_train = np.where(gs_model.decision_function(x_train) >= thresholds[i], 1, 0)\n",
    "print('After the post processing: ')                              \n",
    "print('Precision: ', precision_score(y_test, y_predict_test))\n",
    "print('Recall: ', recall_score(y_test,y_predict_test))"
   ]
  },
  {
   "cell_type": "code",
   "execution_count": 91,
   "metadata": {},
   "outputs": [
    {
     "data": {
      "image/png": "[encoded data removed]",
      "text/plain": [
       "<Figure size 1440x360 with 1 Axes>"
      ]
     },
     "metadata": {
      "needs_background": "light"
     },
     "output_type": "display_data"
    }
   ],
   "source": [
    "%matplotlib inline \n",
    "\n",
    "from sklearn.metrics import roc_curve\n",
    "fpr, tpr, thresholds = roc_curve(y_test, gs_model.decision_function(x_test))\n",
    "\n",
    "i = np.argmin(np.abs(tpr - 0.6))\n",
    "\n",
    "plt.subplots(figsize = (20,5))\n",
    "plt.plot(fpr, tpr, label=\"ROC Curve\")\n",
    "plt.xlabel(\"FPR\")\n",
    "plt.ylabel(\"TPR (recall)\")\n",
    "# find threshold closest to zero\n",
    "close_zero = np.argmin(np.abs(thresholds-0.5))\n",
    "plt.plot(fpr[i], tpr[i], 'o', markersize=10,\n",
    "         label=\"threshold zero\", fillstyle=\"none\", c='k', mew=2)\n",
    "plt.legend(loc=4)\n",
    "plt.grid()"
   ]
  },
  {
   "cell_type": "code",
   "execution_count": 92,
   "metadata": {},
   "outputs": [
    {
     "name": "stdout",
     "output_type": "stream",
     "text": [
      "After the post processing: \n",
      "Precision:  0.06373626373626373\n",
      "Recall:  0.5714285714285714\n",
      "F1-score:  0.07272727272727272\n"
     ]
    }
   ],
   "source": [
    "from sklearn.metrics import precision_score, recall_score\n",
    "\n",
    "y_predict_test = np.where(gs_model.decision_function(x_test) >= thresholds[i], 1, 0)\n",
    "y_predict_train = np.where(gs_model.decision_function(x_train) >= thresholds[i], 1, 0)\n",
    "print('After the post processing: ')\n",
    "post_precision = precision_score(y_train, y_predict_train)\n",
    "post_recall =  recall_score(y_test,y_predict_test)\n",
    "post_f1_score =  f1_score(y_test,y_predict_test)\n",
    "print('Precision: ', precision_score(y_train, y_predict_train))\n",
    "print('Recall: ', recall_score(y_test,y_predict_test))\n",
    "print('F1-score: ', f1_score(y_test,y_predict_test))                               "
   ]
  },
  {
   "cell_type": "code",
   "execution_count": 93,
   "metadata": {},
   "outputs": [
    {
     "name": "stdout",
     "output_type": "stream",
     "text": [
      "Summary [['KNN Classification', {'metric': 'euclidean', 'n_neighbors': 14, 'p': 1, 'weights': 'distance'}, 0.9999811363464876, 0.6163443543356206, 0.42857142857142855, 0.9354838709677419, 0.6324079850280724, 0.07058823529411765], ['Log Classification', {'C': 0.11421052631578947, 'max_iter': 13, 'penalty': 'l2'}, 0.8140232400211272, 0.732064878353088, 0.5714285714285714, 0.05572755417956656, 0.708203368683718, 0.0975609756097561], ['Linear SVM', {'C': 1000, 'max_iter': 16}, 0.7853882139892855, 0.641609482220836, 0.5714285714285714, 0.02997275204359673, 0.5924828446662508, 0.0425531914893617], ['Kernel rbf SVC', {'C': 10, 'gamma': 0.001, 'kernel': 'rbf'}, 0.6973515430468574, 0.5106051154086089, 0.42857142857142855, 0.02867383512544803, 0.5461634435433562, 0.036585365853658534], ['Kernel linear SVC', {'C': 0.1, 'kernel': 'linear'}, 0.7087451897683543, 0.5149719276356831, 0.42857142857142855, 0.045112781954887216, 0.6542420461634436, 0.0923076923076923], ['Kernel Poly SVC', {'C': 10, 'gamma': 0.1, 'kernel': 'poly'}, 0.9587640534218668, 0.6936993137866501, 0.5714285714285714, 0.06373626373626373, 0.6776356830941983, 0.07272727272727272]]\n"
     ]
    }
   ],
   "source": [
    "CompTable = CompTable +[['Kernel Poly SVC', gs_model.best_params_, gs_model.score(x_train, y_train),gs_model.score(x_test, y_test),\n",
    "              post_recall,post_precision,\n",
    "              roc_auc_score(y_test, y_predict_test),\n",
    "              post_f1_score]]\n",
    "print('Summary',CompTable)"
   ]
  },
  {
   "cell_type": "code",
   "execution_count": null,
   "metadata": {},
   "outputs": [],
   "source": []
  },
  {
   "cell_type": "markdown",
   "metadata": {},
   "source": [
    "### Decision Tree"
   ]
  },
  {
   "cell_type": "code",
   "execution_count": 94,
   "metadata": {},
   "outputs": [],
   "source": [
    "from sklearn.tree import DecisionTreeClassifier"
   ]
  },
  {
   "cell_type": "code",
   "execution_count": 95,
   "metadata": {},
   "outputs": [],
   "source": [
    "param_grid = {'max_depth': [1,2,3,4,5,6,7,8,9,10,15,20],'min_samples_leaf' : range(2,50)}\n",
    "\n",
    "\n"
   ]
  },
  {
   "cell_type": "code",
   "execution_count": 96,
   "metadata": {},
   "outputs": [
    {
     "name": "stdout",
     "output_type": "stream",
     "text": [
      "Best score- Decison Tree grid serach:  0.7167878084686977\n",
      "Best parameters- Decison Tree SVM grid serach:  {'max_depth': 4, 'min_samples_leaf': 23}\n"
     ]
    }
   ],
   "source": [
    "gs_model = GridSearchCV(DecisionTreeClassifier(), param_grid, cv=5, return_train_score=True, scoring = 'roc_auc')\n",
    "gs_model.fit(x_train, y_train)\n",
    "print(\"Best score- Decison Tree grid serach: \",gs_model.best_score_)\n",
    "print(\"Best parameters- Decison Tree SVM grid serach: \",gs_model.best_params_)"
   ]
  },
  {
   "cell_type": "code",
   "execution_count": 97,
   "metadata": {},
   "outputs": [
    {
     "data": {
      "image/png": "[encoded data removed]",
      "text/plain": [
       "<Figure size 432x288 with 1 Axes>"
      ]
     },
     "metadata": {
      "needs_background": "light"
     },
     "output_type": "display_data"
    }
   ],
   "source": [
    "import mglearn\n",
    "%matplotlib inline\n",
    "\n",
    "y_pred = gs_model.predict(x_test)\n",
    "scoresimage_ = mglearn.tools.heatmap(\n",
    "    confusion_matrix(y_test,y_pred_knncs), xlabel = 'Predicted label',\n",
    "    ylabel='True label', xticklabels = ['No:0','Yes:1'],\n",
    "    yticklabels=['No:0','Yes:1'], fmt=\"%d\")\n",
    "plt.title(\"Confusion matrix\")\n",
    "plt.gca().invert_yaxis()"
   ]
  },
  {
   "cell_type": "code",
   "execution_count": 98,
   "metadata": {},
   "outputs": [
    {
     "name": "stdout",
     "output_type": "stream",
     "text": [
      "Log Recall score : 0.0000 \n",
      "Log Precision score : 0.0000 \n",
      "Log F1 score : 0.0000 \n"
     ]
    }
   ],
   "source": [
    "from sklearn.metrics import recall_score , precision_score, f1_score\n",
    "from sklearn.metrics import roc_auc_score\n",
    "\n",
    "Knn_recall_Score = recall_score(y_test, gs_model.predict(x_test))\n",
    "print('Log Recall score : {:.4f} '.format(recall_score(y_test, gs_model.predict(x_test))))\n",
    "\n",
    "Knn_Precision_Score = precision_score(y_test, gs_model.predict(x_test))\n",
    "print('Log Precision score : {:.4f} '.format(precision_score(y_test, gs_model.predict(x_test))))\n",
    "\n",
    "Knn_f1_Score = f1_score(y_test, gs_model.predict(x_test))\n",
    "print('Log F1 score : {:.4f} '.format(f1_score(y_test, gs_model.predict(x_test))))"
   ]
  },
  {
   "cell_type": "code",
   "execution_count": 99,
   "metadata": {},
   "outputs": [
    {
     "data": {
      "text/plain": [
       "<matplotlib.legend.Legend at 0x1d70e3892b0>"
      ]
     },
     "execution_count": 99,
     "metadata": {},
     "output_type": "execute_result"
    },
    {
     "data": {
      "image/png": "[encoded data removed]",
      "text/plain": [
       "<Figure size 432x288 with 1 Axes>"
      ]
     },
     "metadata": {
      "needs_background": "light"
     },
     "output_type": "display_data"
    }
   ],
   "source": [
    "import mglearn\n",
    "from sklearn.metrics import precision_recall_curve\n",
    "%matplotlib inline\n",
    "precision, recall, thresholds = precision_recall_curve(y_test, gs_model.predict_proba(x_test)[:,1])\n",
    "\n",
    "cl_z = np.argmin(np.abs(thresholds-0.5))\n",
    "\n",
    "plt.plot(precision[cl_z], recall[cl_z], 'o', markersize=10,\n",
    "         label = \"thresholds-0.5\", fillstyle = \"none\", c = 'k', mew = 2)\n",
    "\n",
    "plt.plot(precision, recall, label=\"precision recall curve\")\n",
    "plt.xlabel(\"Precision\")\n",
    "plt.ylabel(\"Recall\")\n",
    "plt.legend(loc=\"best\")"
   ]
  },
  {
   "cell_type": "code",
   "execution_count": 100,
   "metadata": {},
   "outputs": [],
   "source": [
    "i = np.argmin(np.abs(recall - 0.60))"
   ]
  },
  {
   "cell_type": "code",
   "execution_count": 101,
   "metadata": {},
   "outputs": [
    {
     "name": "stdout",
     "output_type": "stream",
     "text": [
      "After the post processing: \n",
      "Precision:  0.023255813953488372\n",
      "Recall:  0.5714285714285714\n"
     ]
    }
   ],
   "source": [
    "from sklearn.metrics import precision_score, recall_score\n",
    "\n",
    "y_predict_test = np.where(gs_model.predict_proba(x_test) >= thresholds[i], 1, 0)\n",
    "y_predict_train = np.where(gs_model.predict_proba(x_train) >= thresholds[i], 1, 0)\n",
    "print('After the post processing: ')                              \n",
    "print('Precision: ', precision_score(y_test, y_predict_test[:,1]))\n",
    "print('Recall: ', recall_score(y_test,y_predict_test[:,1]))"
   ]
  },
  {
   "cell_type": "code",
   "execution_count": 102,
   "metadata": {},
   "outputs": [
    {
     "data": {
      "image/png": "[encoded data removed]",
      "text/plain": [
       "<Figure size 1440x360 with 1 Axes>"
      ]
     },
     "metadata": {
      "needs_background": "light"
     },
     "output_type": "display_data"
    }
   ],
   "source": [
    "%matplotlib inline \n",
    "\n",
    "from sklearn.metrics import roc_curve\n",
    "fpr, tpr, thresholds = roc_curve(y_test, gs_model.predict_proba(x_test)[:,1])\n",
    "\n",
    "i = np.argmin(np.abs(tpr - 0.2))\n",
    "\n",
    "plt.subplots(figsize = (20,5))\n",
    "plt.plot(fpr, tpr, label=\"ROC Curve\")\n",
    "plt.xlabel(\"FPR\")\n",
    "plt.ylabel(\"TPR (recall)\")\n",
    "# find threshold closest to zero\n",
    "close_zero = np.argmin(np.abs(thresholds-0.5))\n",
    "plt.plot(fpr[i], tpr[i], 'o', markersize=10,\n",
    "         label=\"threshold zero\", fillstyle=\"none\", c='k', mew=2)\n",
    "plt.legend(loc=4)\n",
    "plt.grid()"
   ]
  },
  {
   "cell_type": "code",
   "execution_count": 103,
   "metadata": {},
   "outputs": [
    {
     "name": "stdout",
     "output_type": "stream",
     "text": [
      "After the post processing: \n",
      "Precision:  0.1144578313253012\n",
      "Recall:  0.14285714285714285\n",
      "F1-score:  0.04761904761904761\n"
     ]
    }
   ],
   "source": [
    "from sklearn.metrics import precision_score, recall_score\n",
    "\n",
    "y_predict_test = np.where(gs_model.predict_proba(x_test) >= thresholds[i], 1, 0)\n",
    "y_predict_train = np.where(gs_model.predict_proba(x_train) >= thresholds[i], 1, 0)\n",
    "print('After the post processing: ')\n",
    "post_precision = precision_score(y_train, y_predict_train[:,1])\n",
    "post_recall =  recall_score(y_test,y_predict_test[:,1])\n",
    "post_f1_score =  f1_score(y_test,y_predict_test[:,1])\n",
    "print('Precision: ', precision_score(y_train, y_predict_train[:,1]))\n",
    "print('Recall: ', recall_score(y_test,y_predict_test[:,1]))\n",
    "print('F1-score: ', f1_score(y_test,y_predict_test[:,1]))                               "
   ]
  },
  {
   "cell_type": "code",
   "execution_count": 104,
   "metadata": {},
   "outputs": [
    {
     "name": "stdout",
     "output_type": "stream",
     "text": [
      "Summary [['KNN Classification', {'metric': 'euclidean', 'n_neighbors': 14, 'p': 1, 'weights': 'distance'}, 0.9999811363464876, 0.6163443543356206, 0.42857142857142855, 0.9354838709677419, 0.6324079850280724, 0.07058823529411765], ['Log Classification', {'C': 0.11421052631578947, 'max_iter': 13, 'penalty': 'l2'}, 0.8140232400211272, 0.732064878353088, 0.5714285714285714, 0.05572755417956656, 0.708203368683718, 0.0975609756097561], ['Linear SVM', {'C': 1000, 'max_iter': 16}, 0.7853882139892855, 0.641609482220836, 0.5714285714285714, 0.02997275204359673, 0.5924828446662508, 0.0425531914893617], ['Kernel rbf SVC', {'C': 10, 'gamma': 0.001, 'kernel': 'rbf'}, 0.6973515430468574, 0.5106051154086089, 0.42857142857142855, 0.02867383512544803, 0.5461634435433562, 0.036585365853658534], ['Kernel linear SVC', {'C': 0.1, 'kernel': 'linear'}, 0.7087451897683543, 0.5149719276356831, 0.42857142857142855, 0.045112781954887216, 0.6542420461634436, 0.0923076923076923], ['Kernel Poly SVC', {'C': 10, 'gamma': 0.1, 'kernel': 'poly'}, 0.9587640534218668, 0.6936993137866501, 0.5714285714285714, 0.06373626373626373, 0.6776356830941983, 0.07272727272727272], ['Decision Tree', {'max_depth': 4, 'min_samples_leaf': 23}, 0.8920055836414397, 0.5927947598253274, 0.14285714285714285, 0.1144578313253012, 0.5343106674984404, 0.04761904761904761]]\n"
     ]
    }
   ],
   "source": [
    "CompTable = CompTable +[['Decision Tree', gs_model.best_params_, gs_model.score(x_train, y_train),gs_model.score(x_test, y_test),\n",
    "              post_recall,post_precision,\n",
    "              roc_auc_score(y_test, y_predict_test[:,1]),\n",
    "              post_f1_score]]\n",
    "print('Summary',CompTable)"
   ]
  },
  {
   "cell_type": "code",
   "execution_count": null,
   "metadata": {},
   "outputs": [],
   "source": []
  },
  {
   "cell_type": "markdown",
   "metadata": {},
   "source": [
    "#### Random Forest "
   ]
  },
  {
   "cell_type": "code",
   "execution_count": 105,
   "metadata": {},
   "outputs": [],
   "source": [
    "from sklearn.ensemble import RandomForestClassifier\n",
    "\n",
    "param_grid = {'max_depth': [1,4,5,10],'max_features' : [0.01,0.1,0.5],'n_estimators':[100,200,500]\n",
    "             ,'max_samples': [0.01,0.1]}\n"
   ]
  },
  {
   "cell_type": "code",
   "execution_count": 106,
   "metadata": {},
   "outputs": [
    {
     "name": "stdout",
     "output_type": "stream",
     "text": [
      "Best score- Decison Tree grid serach:  0.7584600893280435\n",
      "Best parameters- Decison Tree SVM grid serach:  {'max_depth': 10, 'max_features': 0.1, 'max_samples': 0.1, 'n_estimators': 100}\n"
     ]
    }
   ],
   "source": [
    "gs_model = GridSearchCV(RandomForestClassifier(random_state=0), param_grid, cv=5, return_train_score=True, scoring = 'roc_auc')\n",
    "gs_model.fit(x_train, y_train)\n",
    "print(\"Best score- Decison Tree grid serach: \",gs_model.best_score_)\n",
    "print(\"Best parameters- Decison Tree SVM grid serach: \",gs_model.best_params_)"
   ]
  },
  {
   "cell_type": "code",
   "execution_count": 107,
   "metadata": {},
   "outputs": [
    {
     "data": {
      "image/png": "[encoded data removed]",
      "text/plain": [
       "<Figure size 432x288 with 1 Axes>"
      ]
     },
     "metadata": {
      "needs_background": "light"
     },
     "output_type": "display_data"
    }
   ],
   "source": [
    "import mglearn\n",
    "%matplotlib inline\n",
    "\n",
    "y_pred = gs_model.predict(x_test)\n",
    "scoresimage_ = mglearn.tools.heatmap(\n",
    "    confusion_matrix(y_test,y_pred_knncs), xlabel = 'Predicted label',\n",
    "    ylabel='True label', xticklabels = ['No:0','Yes:1'],\n",
    "    yticklabels=['No:0','Yes:1'], fmt=\"%d\")\n",
    "plt.title(\"Confusion matrix \")\n",
    "plt.gca().invert_yaxis()"
   ]
  },
  {
   "cell_type": "code",
   "execution_count": 108,
   "metadata": {},
   "outputs": [
    {
     "name": "stdout",
     "output_type": "stream",
     "text": [
      "Log Recall score : 0.0000 \n",
      "Log Precision score : 0.0000 \n",
      "Log F1 score : 0.0000 \n"
     ]
    }
   ],
   "source": [
    "from sklearn.metrics import recall_score , precision_score, f1_score\n",
    "from sklearn.metrics import roc_auc_score\n",
    "\n",
    "Knn_recall_Score = recall_score(y_test, gs_model.predict(x_test))\n",
    "print('Log Recall score : {:.4f} '.format(recall_score(y_test, gs_model.predict(x_test))))\n",
    "\n",
    "Knn_Precision_Score = precision_score(y_test, gs_model.predict(x_test))\n",
    "print('Log Precision score : {:.4f} '.format(precision_score(y_test, gs_model.predict(x_test))))\n",
    "\n",
    "Knn_f1_Score = f1_score(y_test, gs_model.predict(x_test))\n",
    "print('Log F1 score : {:.4f} '.format(f1_score(y_test, gs_model.predict(x_test))))"
   ]
  },
  {
   "cell_type": "code",
   "execution_count": 109,
   "metadata": {},
   "outputs": [
    {
     "data": {
      "text/plain": [
       "<matplotlib.legend.Legend at 0x1d70f2fdbe0>"
      ]
     },
     "execution_count": 109,
     "metadata": {},
     "output_type": "execute_result"
    },
    {
     "data": {
      "image/png": "[encoded data removed]",
      "text/plain": [
       "<Figure size 432x288 with 1 Axes>"
      ]
     },
     "metadata": {
      "needs_background": "light"
     },
     "output_type": "display_data"
    }
   ],
   "source": [
    "import mglearn\n",
    "from sklearn.metrics import precision_recall_curve\n",
    "%matplotlib inline\n",
    "precision, recall, thresholds = precision_recall_curve(y_test, gs_model.predict_proba(x_test)[:,1])\n",
    "\n",
    "cl_z = np.argmin(np.abs(thresholds-0.5))\n",
    "\n",
    "plt.plot(precision[cl_z], recall[cl_z], 'o', markersize=10,\n",
    "         label = \"thresholds-0.5\", fillstyle = \"none\", c = 'k', mew = 2)\n",
    "\n",
    "plt.plot(precision, recall, label=\"precision recall curve\")\n",
    "plt.xlabel(\"Precision\")\n",
    "plt.ylabel(\"Recall\")\n",
    "plt.legend(loc=\"best\")"
   ]
  },
  {
   "cell_type": "code",
   "execution_count": 110,
   "metadata": {},
   "outputs": [],
   "source": [
    "i = np.argmin(np.abs(recall - 0.35))"
   ]
  },
  {
   "cell_type": "code",
   "execution_count": 111,
   "metadata": {},
   "outputs": [
    {
     "name": "stdout",
     "output_type": "stream",
     "text": [
      "After the post processing: \n",
      "Precision:  0.06666666666666667\n",
      "Recall:  0.2857142857142857\n"
     ]
    }
   ],
   "source": [
    "from sklearn.metrics import precision_score, recall_score\n",
    "\n",
    "y_predict_test = np.where(gs_model.predict_proba(x_test) >= thresholds[i], 1, 0)\n",
    "y_predict_train = np.where(gs_model.predict_proba(x_train) >= thresholds[i], 1, 0)\n",
    "print('After the post processing: ')                              \n",
    "print('Precision: ', precision_score(y_test, y_predict_test[:,1]))\n",
    "print('Recall: ', recall_score(y_test,y_predict_test[:,1]))"
   ]
  },
  {
   "cell_type": "code",
   "execution_count": 112,
   "metadata": {},
   "outputs": [
    {
     "data": {
      "image/png": "[encoded data removed]",
      "text/plain": [
       "<Figure size 1440x360 with 1 Axes>"
      ]
     },
     "metadata": {
      "needs_background": "light"
     },
     "output_type": "display_data"
    }
   ],
   "source": [
    "%matplotlib inline \n",
    "\n",
    "from sklearn.metrics import roc_curve\n",
    "fpr, tpr, thresholds = roc_curve(y_test, gs_model.predict_proba(x_test)[:,1])\n",
    "\n",
    "i = np.argmin(np.abs(tpr - 0.42))\n",
    "\n",
    "plt.subplots(figsize = (20,5))\n",
    "plt.plot(fpr, tpr, label=\"ROC Curve\")\n",
    "plt.xlabel(\"FPR\")\n",
    "plt.ylabel(\"TPR (recall)\")\n",
    "# find threshold closest to zero\n",
    "close_zero = np.argmin(np.abs(thresholds-0.5))\n",
    "plt.plot(fpr[i], tpr[i], 'o', markersize=10,\n",
    "         label=\"threshold zero\", fillstyle=\"none\", c='k', mew=2)\n",
    "plt.legend(loc=4)\n",
    "plt.grid()"
   ]
  },
  {
   "cell_type": "code",
   "execution_count": 113,
   "metadata": {},
   "outputs": [
    {
     "name": "stdout",
     "output_type": "stream",
     "text": [
      "After the post processing: \n",
      "Precision:  0.2\n",
      "Recall:  0.42857142857142855\n",
      "F1-score:  0.15000000000000002\n",
      "roc_auc-score:  0.6815346225826575\n"
     ]
    }
   ],
   "source": [
    "from sklearn.metrics import precision_score, recall_score\n",
    "\n",
    "y_predict_test = np.where(gs_model.predict_proba(x_test) >= thresholds[i], 1, 0)\n",
    "y_predict_train = np.where(gs_model.predict_proba(x_train) >= thresholds[i], 1, 0)\n",
    "print('After the post processing: ')\n",
    "post_precision = precision_score(y_train, y_predict_train[:,1])\n",
    "post_recall =  recall_score(y_test,y_predict_test[:,1])\n",
    "post_f1_score =  f1_score(y_test,y_predict_test[:,1])\n",
    "print('Precision: ', precision_score(y_train, y_predict_train[:,1]))\n",
    "print('Recall: ', recall_score(y_test,y_predict_test[:,1]))\n",
    "print('F1-score: ', f1_score(y_test,y_predict_test[:,1])) \n",
    "print('roc_auc-score: ', roc_auc_score(y_test,y_predict_test[:,1]))  "
   ]
  },
  {
   "cell_type": "code",
   "execution_count": 114,
   "metadata": {
    "scrolled": true
   },
   "outputs": [
    {
     "name": "stdout",
     "output_type": "stream",
     "text": [
      "Summary [['KNN Classification', {'metric': 'euclidean', 'n_neighbors': 14, 'p': 1, 'weights': 'distance'}, 0.9999811363464876, 0.6163443543356206, 0.42857142857142855, 0.9354838709677419, 0.6324079850280724, 0.07058823529411765], ['Log Classification', {'C': 0.11421052631578947, 'max_iter': 13, 'penalty': 'l2'}, 0.8140232400211272, 0.732064878353088, 0.5714285714285714, 0.05572755417956656, 0.708203368683718, 0.0975609756097561], ['Linear SVM', {'C': 1000, 'max_iter': 16}, 0.7853882139892855, 0.641609482220836, 0.5714285714285714, 0.02997275204359673, 0.5924828446662508, 0.0425531914893617], ['Kernel rbf SVC', {'C': 10, 'gamma': 0.001, 'kernel': 'rbf'}, 0.6973515430468574, 0.5106051154086089, 0.42857142857142855, 0.02867383512544803, 0.5461634435433562, 0.036585365853658534], ['Kernel linear SVC', {'C': 0.1, 'kernel': 'linear'}, 0.7087451897683543, 0.5149719276356831, 0.42857142857142855, 0.045112781954887216, 0.6542420461634436, 0.0923076923076923], ['Kernel Poly SVC', {'C': 10, 'gamma': 0.1, 'kernel': 'poly'}, 0.9587640534218668, 0.6936993137866501, 0.5714285714285714, 0.06373626373626373, 0.6776356830941983, 0.07272727272727272], ['Decision Tree', {'max_depth': 4, 'min_samples_leaf': 23}, 0.8920055836414397, 0.5927947598253274, 0.14285714285714285, 0.1144578313253012, 0.5343106674984404, 0.04761904761904761], ['Random Forest', {'max_depth': 10, 'max_features': 0.1, 'max_samples': 0.1, 'n_estimators': 100}, 0.9867199879272618, 0.7334684965689332, 0.42857142857142855, 0.2, 0.6815346225826575, 0.15000000000000002]]\n"
     ]
    }
   ],
   "source": [
    "CompTable = CompTable +[['Random Forest', gs_model.best_params_, gs_model.score(x_train, y_train),gs_model.score(x_test, y_test),\n",
    "              post_recall,post_precision,\n",
    "              roc_auc_score(y_test, y_predict_test[:,1]),\n",
    "              post_f1_score]]\n",
    "print('Summary',CompTable)"
   ]
  },
  {
   "cell_type": "code",
   "execution_count": 115,
   "metadata": {},
   "outputs": [
    {
     "data": {
      "text/html": [
       "<div>\n",
       "<style scoped>\n",
       "    .dataframe tbody tr th:only-of-type {\n",
       "        vertical-align: middle;\n",
       "    }\n",
       "\n",
       "    .dataframe tbody tr th {\n",
       "        vertical-align: top;\n",
       "    }\n",
       "\n",
       "    .dataframe thead th {\n",
       "        text-align: right;\n",
       "    }\n",
       "</style>\n",
       "<table border=\"1\" class=\"dataframe\">\n",
       "  <thead>\n",
       "    <tr style=\"text-align: right;\">\n",
       "      <th></th>\n",
       "      <th>Model name</th>\n",
       "      <th>Model parameter</th>\n",
       "      <th>Train accuracy</th>\n",
       "      <th>Test accuracy</th>\n",
       "      <th>recall score</th>\n",
       "      <th>precision_score</th>\n",
       "      <th>auc_roc</th>\n",
       "      <th>F1_Score</th>\n",
       "    </tr>\n",
       "    <tr>\n",
       "      <th>Model name</th>\n",
       "      <th></th>\n",
       "      <th></th>\n",
       "      <th></th>\n",
       "      <th></th>\n",
       "      <th></th>\n",
       "      <th></th>\n",
       "      <th></th>\n",
       "      <th></th>\n",
       "    </tr>\n",
       "  </thead>\n",
       "  <tbody>\n",
       "    <tr>\n",
       "      <th>KNN Classification</th>\n",
       "      <td>KNN Classification</td>\n",
       "      <td>{'metric': 'euclidean', 'n_neighbors': 14, 'p'...</td>\n",
       "      <td>0.999981</td>\n",
       "      <td>0.616344</td>\n",
       "      <td>0.428571</td>\n",
       "      <td>0.935484</td>\n",
       "      <td>0.632408</td>\n",
       "      <td>0.070588</td>\n",
       "    </tr>\n",
       "    <tr>\n",
       "      <th>Log Classification</th>\n",
       "      <td>Log Classification</td>\n",
       "      <td>{'C': 0.11421052631578947, 'max_iter': 13, 'pe...</td>\n",
       "      <td>0.814023</td>\n",
       "      <td>0.732065</td>\n",
       "      <td>0.571429</td>\n",
       "      <td>0.055728</td>\n",
       "      <td>0.708203</td>\n",
       "      <td>0.097561</td>\n",
       "    </tr>\n",
       "    <tr>\n",
       "      <th>Linear SVM</th>\n",
       "      <td>Linear SVM</td>\n",
       "      <td>{'C': 1000, 'max_iter': 16}</td>\n",
       "      <td>0.785388</td>\n",
       "      <td>0.641609</td>\n",
       "      <td>0.571429</td>\n",
       "      <td>0.029973</td>\n",
       "      <td>0.592483</td>\n",
       "      <td>0.042553</td>\n",
       "    </tr>\n",
       "    <tr>\n",
       "      <th>Kernel rbf SVC</th>\n",
       "      <td>Kernel rbf SVC</td>\n",
       "      <td>{'C': 10, 'gamma': 0.001, 'kernel': 'rbf'}</td>\n",
       "      <td>0.697352</td>\n",
       "      <td>0.510605</td>\n",
       "      <td>0.428571</td>\n",
       "      <td>0.028674</td>\n",
       "      <td>0.546163</td>\n",
       "      <td>0.036585</td>\n",
       "    </tr>\n",
       "    <tr>\n",
       "      <th>Kernel linear SVC</th>\n",
       "      <td>Kernel linear SVC</td>\n",
       "      <td>{'C': 0.1, 'kernel': 'linear'}</td>\n",
       "      <td>0.708745</td>\n",
       "      <td>0.514972</td>\n",
       "      <td>0.428571</td>\n",
       "      <td>0.045113</td>\n",
       "      <td>0.654242</td>\n",
       "      <td>0.092308</td>\n",
       "    </tr>\n",
       "    <tr>\n",
       "      <th>Kernel Poly SVC</th>\n",
       "      <td>Kernel Poly SVC</td>\n",
       "      <td>{'C': 10, 'gamma': 0.1, 'kernel': 'poly'}</td>\n",
       "      <td>0.958764</td>\n",
       "      <td>0.693699</td>\n",
       "      <td>0.571429</td>\n",
       "      <td>0.063736</td>\n",
       "      <td>0.677636</td>\n",
       "      <td>0.072727</td>\n",
       "    </tr>\n",
       "    <tr>\n",
       "      <th>Decision Tree</th>\n",
       "      <td>Decision Tree</td>\n",
       "      <td>{'max_depth': 4, 'min_samples_leaf': 23}</td>\n",
       "      <td>0.892006</td>\n",
       "      <td>0.592795</td>\n",
       "      <td>0.142857</td>\n",
       "      <td>0.114458</td>\n",
       "      <td>0.534311</td>\n",
       "      <td>0.047619</td>\n",
       "    </tr>\n",
       "    <tr>\n",
       "      <th>Random Forest</th>\n",
       "      <td>Random Forest</td>\n",
       "      <td>{'max_depth': 10, 'max_features': 0.1, 'max_sa...</td>\n",
       "      <td>0.986720</td>\n",
       "      <td>0.733468</td>\n",
       "      <td>0.428571</td>\n",
       "      <td>0.200000</td>\n",
       "      <td>0.681535</td>\n",
       "      <td>0.150000</td>\n",
       "    </tr>\n",
       "  </tbody>\n",
       "</table>\n",
       "</div>"
      ],
      "text/plain": [
       "                            Model name  \\\n",
       "Model name                               \n",
       "KNN Classification  KNN Classification   \n",
       "Log Classification  Log Classification   \n",
       "Linear SVM                  Linear SVM   \n",
       "Kernel rbf SVC          Kernel rbf SVC   \n",
       "Kernel linear SVC    Kernel linear SVC   \n",
       "Kernel Poly SVC        Kernel Poly SVC   \n",
       "Decision Tree            Decision Tree   \n",
       "Random Forest            Random Forest   \n",
       "\n",
       "                                                      Model parameter  \\\n",
       "Model name                                                              \n",
       "KNN Classification  {'metric': 'euclidean', 'n_neighbors': 14, 'p'...   \n",
       "Log Classification  {'C': 0.11421052631578947, 'max_iter': 13, 'pe...   \n",
       "Linear SVM                                {'C': 1000, 'max_iter': 16}   \n",
       "Kernel rbf SVC             {'C': 10, 'gamma': 0.001, 'kernel': 'rbf'}   \n",
       "Kernel linear SVC                      {'C': 0.1, 'kernel': 'linear'}   \n",
       "Kernel Poly SVC             {'C': 10, 'gamma': 0.1, 'kernel': 'poly'}   \n",
       "Decision Tree                {'max_depth': 4, 'min_samples_leaf': 23}   \n",
       "Random Forest       {'max_depth': 10, 'max_features': 0.1, 'max_sa...   \n",
       "\n",
       "                    Train accuracy   Test accuracy   recall score  \\\n",
       "Model name                                                          \n",
       "KNN Classification         0.999981        0.616344      0.428571   \n",
       "Log Classification         0.814023        0.732065      0.571429   \n",
       "Linear SVM                 0.785388        0.641609      0.571429   \n",
       "Kernel rbf SVC             0.697352        0.510605      0.428571   \n",
       "Kernel linear SVC          0.708745        0.514972      0.428571   \n",
       "Kernel Poly SVC            0.958764        0.693699      0.571429   \n",
       "Decision Tree              0.892006        0.592795      0.142857   \n",
       "Random Forest              0.986720        0.733468      0.428571   \n",
       "\n",
       "                    precision_score   auc_roc  F1_Score  \n",
       "Model name                                               \n",
       "KNN Classification         0.935484  0.632408  0.070588  \n",
       "Log Classification         0.055728  0.708203  0.097561  \n",
       "Linear SVM                 0.029973  0.592483  0.042553  \n",
       "Kernel rbf SVC             0.028674  0.546163  0.036585  \n",
       "Kernel linear SVC          0.045113  0.654242  0.092308  \n",
       "Kernel Poly SVC            0.063736  0.677636  0.072727  \n",
       "Decision Tree              0.114458  0.534311  0.047619  \n",
       "Random Forest              0.200000  0.681535  0.150000  "
      ]
     },
     "execution_count": 115,
     "metadata": {},
     "output_type": "execute_result"
    }
   ],
   "source": [
    "CompTable1 = pd.DataFrame(CompTable,columns = ['Model name','Model parameter', 'Train accuracy ', 'Test accuracy ','recall score','precision_score',\n",
    "                                              'auc_roc','F1_Score'])\n",
    "CompTable1.index = CompTable1['Model name']\n",
    "CompTable1.round(2)\n",
    "CompTable1"
   ]
  },
  {
   "cell_type": "code",
   "execution_count": null,
   "metadata": {},
   "outputs": [],
   "source": []
  },
  {
   "cell_type": "code",
   "execution_count": null,
   "metadata": {},
   "outputs": [],
   "source": []
  },
  {
   "cell_type": "markdown",
   "metadata": {},
   "source": [
    "# Best model ( 5 points)\n",
    "Explain which machine learning model is the best model for this dataset and why? "
   ]
  },
  {
   "cell_type": "markdown",
   "metadata": {},
   "source": [
    "### As seen from the above table Linear SVC has the highest roc_auc curve and F-1 score and the precision score being the second highest. Hence we will select Linear SVC as the best Model. We will Adaboost this model to make our final prediction"
   ]
  },
  {
   "cell_type": "markdown",
   "metadata": {},
   "source": [
    "### Fitting the best Model on the entire dataset and applying Adaboost"
   ]
  },
  {
   "cell_type": "code",
   "execution_count": 116,
   "metadata": {},
   "outputs": [],
   "source": [
    "from sklearn.ensemble import AdaBoostClassifier"
   ]
  },
  {
   "cell_type": "code",
   "execution_count": 117,
   "metadata": {},
   "outputs": [
    {
     "name": "stdout",
     "output_type": "stream",
     "text": [
      "Train Score: 0.9843834141087776\n",
      "Trest Score: 0.9827956989247312\n"
     ]
    }
   ],
   "source": [
    "\n",
    "\n",
    "gs_model = AdaBoostClassifier(LinearSVC(C=10,max_iter=95), n_estimators=100, \n",
    "                             algorithm=\"SAMME\", learning_rate=0.1, random_state=0)\n",
    "\n",
    "gs_model.fit(x_train, y_train)\n",
    "print('Train Score:',gs_model.score(x_train,y_train))\n",
    "print('Trest Score:',gs_model.score(x_test,y_test))"
   ]
  },
  {
   "cell_type": "code",
   "execution_count": 118,
   "metadata": {},
   "outputs": [
    {
     "data": {
      "image/png": "[encoded data removed]",
      "text/plain": [
       "<Figure size 432x288 with 1 Axes>"
      ]
     },
     "metadata": {
      "needs_background": "light"
     },
     "output_type": "display_data"
    }
   ],
   "source": [
    "import mglearn\n",
    "%matplotlib inline\n",
    "\n",
    "y_pred = gs_model.predict(x_test)\n",
    "scoresimage_ = mglearn.tools.heatmap(\n",
    "    confusion_matrix(y_test,y_pred_knncs), xlabel = 'Predicted label',\n",
    "    ylabel='True label', xticklabels = ['No:0','Yes:1'],\n",
    "    yticklabels=['No:0','Yes:1'], fmt=\"%d\")\n",
    "plt.title(\"Confusion matrix\")\n",
    "plt.gca().invert_yaxis()"
   ]
  },
  {
   "cell_type": "code",
   "execution_count": 119,
   "metadata": {},
   "outputs": [
    {
     "name": "stdout",
     "output_type": "stream",
     "text": [
      "Log Recall score : 0.0000 \n",
      "Log Precision score : 0.0000 \n",
      "Log F1 score : 0.0000 \n"
     ]
    }
   ],
   "source": [
    "from sklearn.metrics import recall_score , precision_score, f1_score\n",
    "from sklearn.metrics import roc_auc_score\n",
    "\n",
    "Knn_recall_Score = recall_score(y_test, gs_model.predict(x_test))\n",
    "print('Log Recall score : {:.4f} '.format(recall_score(y_test, gs_model.predict(x_test))))\n",
    "\n",
    "Knn_Precision_Score = precision_score(y_test, gs_model.predict(x_test))\n",
    "print('Log Precision score : {:.4f} '.format(precision_score(y_test, gs_model.predict(x_test))))\n",
    "\n",
    "Knn_f1_Score = f1_score(y_test, gs_model.predict(x_test))\n",
    "print('Log F1 score : {:.4f} '.format(f1_score(y_test, gs_model.predict(x_test))))"
   ]
  },
  {
   "cell_type": "code",
   "execution_count": 120,
   "metadata": {},
   "outputs": [
    {
     "data": {
      "text/plain": [
       "<matplotlib.legend.Legend at 0x1d70f461280>"
      ]
     },
     "execution_count": 120,
     "metadata": {},
     "output_type": "execute_result"
    },
    {
     "data": {
      "image/png": "[encoded data removed]",
      "text/plain": [
       "<Figure size 432x288 with 1 Axes>"
      ]
     },
     "metadata": {
      "needs_background": "light"
     },
     "output_type": "display_data"
    }
   ],
   "source": [
    "import mglearn\n",
    "from sklearn.metrics import precision_recall_curve\n",
    "%matplotlib inline\n",
    "precision, recall, thresholds = precision_recall_curve(y_test, gs_model.predict_proba(x_test)[:,1])\n",
    "\n",
    "cl_z = np.argmin(np.abs(thresholds-0.5))\n",
    "\n",
    "plt.plot(precision[cl_z], recall[cl_z], 'o', markersize=10,\n",
    "         label = \"thresholds-0.5\", fillstyle = \"none\", c = 'k', mew = 2)\n",
    "\n",
    "plt.plot(precision, recall, label=\"precision recall curve\")\n",
    "plt.xlabel(\"Precision\")\n",
    "plt.ylabel(\"Recall\")\n",
    "plt.legend(loc=\"best\")"
   ]
  },
  {
   "cell_type": "code",
   "execution_count": 121,
   "metadata": {},
   "outputs": [],
   "source": [
    "i = np.argmin(np.abs(recall - 0.6))"
   ]
  },
  {
   "cell_type": "code",
   "execution_count": 122,
   "metadata": {},
   "outputs": [
    {
     "name": "stdout",
     "output_type": "stream",
     "text": [
      "After the post processing: \n",
      "Precision:  0.03125\n",
      "Recall:  0.5714285714285714\n"
     ]
    }
   ],
   "source": [
    "from sklearn.metrics import precision_score, recall_score\n",
    "\n",
    "y_predict_test = np.where(gs_model.predict_proba(x_test) >= thresholds[i], 1, 0)\n",
    "y_predict_train = np.where(gs_model.predict_proba(x_train) >= thresholds[i], 1, 0)\n",
    "print('After the post processing: ')                              \n",
    "print('Precision: ', precision_score(y_test, y_predict_test[:,1]))\n",
    "print('Recall: ', recall_score(y_test,y_predict_test[:,1]))"
   ]
  },
  {
   "cell_type": "code",
   "execution_count": 123,
   "metadata": {},
   "outputs": [
    {
     "data": {
      "image/png": "[encoded data removed]",
      "text/plain": [
       "<Figure size 1440x360 with 1 Axes>"
      ]
     },
     "metadata": {
      "needs_background": "light"
     },
     "output_type": "display_data"
    }
   ],
   "source": [
    "%matplotlib inline \n",
    "\n",
    "from sklearn.metrics import roc_curve\n",
    "fpr, tpr, thresholds = roc_curve(y_test, gs_model.predict_proba(x_test)[:,1])\n",
    "\n",
    "i = np.argmin(np.abs(tpr - 0.6))\n",
    "\n",
    "plt.subplots(figsize = (20,5))\n",
    "plt.plot(fpr, tpr, label=\"ROC Curve\")\n",
    "plt.xlabel(\"FPR\")\n",
    "plt.ylabel(\"TPR (recall)\")\n",
    "# find threshold closest to zero\n",
    "close_zero = np.argmin(np.abs(thresholds-0.5))\n",
    "plt.plot(fpr[i], tpr[i], 'o', markersize=10,\n",
    "         label=\"threshold zero\", fillstyle=\"none\", c='k', mew=2)\n",
    "plt.legend(loc=4)\n",
    "plt.grid()"
   ]
  },
  {
   "cell_type": "code",
   "execution_count": 124,
   "metadata": {},
   "outputs": [
    {
     "name": "stdout",
     "output_type": "stream",
     "text": [
      "After the post processing: \n",
      "Precision:  0.06766917293233082\n",
      "Recall:  0.5714285714285714\n",
      "F1-score:  0.2\n",
      "roc_auc-score:  0.7540548970679974\n"
     ]
    }
   ],
   "source": [
    "from sklearn.metrics import precision_score, recall_score\n",
    "\n",
    "y_predict_test = np.where(gs_model.predict_proba(x_test) >= thresholds[i], 1, 0)\n",
    "y_predict_train = np.where(gs_model.predict_proba(x_train) >= thresholds[i], 1, 0)\n",
    "print('After the post processing: ')\n",
    "post_precision = precision_score(y_train, y_predict_train[:,1])\n",
    "post_recall =  recall_score(y_test,y_predict_test[:,1])\n",
    "post_f1_score =  f1_score(y_test,y_predict_test[:,1])\n",
    "print('Precision: ', precision_score(y_train, y_predict_train[:,1]))\n",
    "print('Recall: ', recall_score(y_test,y_predict_test[:,1]))\n",
    "print('F1-score: ', f1_score(y_test,y_predict_test[:,1])) \n",
    "print('roc_auc-score: ', roc_auc_score(y_test,y_predict_test[:,1]))  "
   ]
  },
  {
   "cell_type": "code",
   "execution_count": 125,
   "metadata": {},
   "outputs": [],
   "source": [
    "# Confusion Matrix"
   ]
  },
  {
   "cell_type": "code",
   "execution_count": 126,
   "metadata": {},
   "outputs": [],
   "source": [
    "from sklearn.metrics import accuracy_score,classification_report"
   ]
  },
  {
   "cell_type": "code",
   "execution_count": 127,
   "metadata": {},
   "outputs": [
    {
     "name": "stdout",
     "output_type": "stream",
     "text": [
      "Accuracy of the Model:  0.9311827956989247 \n",
      "\n",
      "Confusion Matrix of the Model:\n",
      " [[429  29]\n",
      " [  3   4]] \n",
      "\n",
      "Classification Report of the Model:\n",
      "               precision    recall  f1-score   support\n",
      "\n",
      "           0       0.99      0.94      0.96       458\n",
      "           1       0.12      0.57      0.20         7\n",
      "\n",
      "    accuracy                           0.93       465\n",
      "   macro avg       0.56      0.75      0.58       465\n",
      "weighted avg       0.98      0.93      0.95       465\n",
      "\n"
     ]
    }
   ],
   "source": [
    "predicted = np.where(gs_model.predict_proba(x_test) >= thresholds[i], 1, 0)\n",
    "print('Accuracy of the Model: ', accuracy_score(y_test, predicted[:,1]), '\\n')\n",
    "print('Confusion Matrix of the Model:\\n', confusion_matrix(y_test, predicted[:,1]), '\\n')\n",
    "print('Classification Report of the Model:\\n', classification_report(y_test, predicted[:,1]))"
   ]
  },
  {
   "cell_type": "code",
   "execution_count": null,
   "metadata": {},
   "outputs": [],
   "source": []
  },
  {
   "cell_type": "markdown",
   "metadata": {},
   "source": [
    "# Grading (50 points)\n",
    "Your model should predict the outcome for every row in the test.csv. \n",
    "You should be able to correctly print the ``final_test_prediction`` executing the following statement: "
   ]
  },
  {
   "cell_type": "markdown",
   "metadata": {},
   "source": [
    "### Fitting the best model on the entire training dataset"
   ]
  },
  {
   "cell_type": "code",
   "execution_count": 128,
   "metadata": {},
   "outputs": [],
   "source": [
    "\n",
    "x = df_train.drop(['Crash Severity'],axis=1)\n",
    "y = df_train['Crash Severity']\n"
   ]
  },
  {
   "cell_type": "code",
   "execution_count": 129,
   "metadata": {},
   "outputs": [
    {
     "name": "stdout",
     "output_type": "stream",
     "text": [
      "Train Score: 0.9844961240310077\n"
     ]
    }
   ],
   "source": [
    "\n",
    "scaler = MinMaxScaler()\n",
    "\n",
    "X_scale=scaler.fit_transform(x)\n",
    "\n",
    "X_scale.shape\n",
    "\n",
    "\n",
    "gs_model = AdaBoostClassifier(LinearSVC(C=10,max_iter=95), n_estimators=100, \n",
    "                             algorithm=\"SAMME\", learning_rate=0.1, random_state=0)\n",
    "\n",
    "\n",
    "\n",
    "gs_model.fit(X_scale, y)\n",
    "print('Train Score:',gs_model.score(X_scale,y))"
   ]
  },
  {
   "cell_type": "code",
   "execution_count": 130,
   "metadata": {},
   "outputs": [
    {
     "data": {
      "text/plain": [
       "0.3645384857481699"
      ]
     },
     "execution_count": 130,
     "metadata": {},
     "output_type": "execute_result"
    }
   ],
   "source": [
    "thresholds[i]"
   ]
  },
  {
   "cell_type": "markdown",
   "metadata": {},
   "source": [
    "#### Now finally we will make our final prediction on the x_test.csv "
   ]
  },
  {
   "cell_type": "code",
   "execution_count": 131,
   "metadata": {},
   "outputs": [],
   "source": [
    "Final_scale=scaler.transform(df_test)"
   ]
  },
  {
   "cell_type": "code",
   "execution_count": 132,
   "metadata": {},
   "outputs": [],
   "source": [
    "final_test_prediction = np.where(gs_model.predict_proba(Final_scale) >= 0.3645384857481699, 1, 0)"
   ]
  },
  {
   "cell_type": "code",
   "execution_count": 133,
   "metadata": {},
   "outputs": [
    {
     "name": "stdout",
     "output_type": "stream",
     "text": [
      "Shape of the predicted: (774, 2)\n"
     ]
    }
   ],
   "source": [
    "print('Shape of the predicted:',final_test_prediction.shape)"
   ]
  },
  {
   "cell_type": "code",
   "execution_count": 134,
   "metadata": {},
   "outputs": [
    {
     "data": {
      "text/plain": [
       "array([0, 0, 1, 0, 0, 0, 0, 0, 0, 0, 0, 0, 0, 0, 0, 1, 0, 0, 0, 0, 0, 0,\n",
       "       1, 0, 0, 0, 0, 0, 1, 0, 0, 0, 0, 0, 1, 0, 0, 0, 0, 1, 0, 0, 0, 0,\n",
       "       0, 0, 0, 0, 0, 0, 0, 0, 0, 1, 0, 0, 0, 0, 0, 1, 0, 0, 0, 1, 0, 0,\n",
       "       0, 0, 0, 0, 1, 0, 0, 0, 0, 0, 0, 0, 0, 0, 0, 1, 0, 1, 0, 0, 0, 0,\n",
       "       0, 0, 0, 0, 0, 0, 0, 0, 0, 0, 0, 0, 0, 0, 0, 0, 0, 1, 1, 0, 0, 0,\n",
       "       0, 0, 0, 0, 0, 0, 0, 1, 0, 0, 0, 0, 0, 0, 0, 0, 0, 0, 0, 0, 0, 0,\n",
       "       0, 0, 0, 0, 1, 0, 0, 0, 0, 0, 0, 0, 0, 0, 0, 0, 0, 0, 0, 0, 0, 0,\n",
       "       0, 0, 0, 0, 0, 0, 1, 0, 0, 0, 0, 0, 0, 0, 0, 0, 0, 0, 0, 1, 0, 0,\n",
       "       0, 0, 0, 0, 0, 0, 0, 0, 1, 0, 0, 0, 1, 0, 0, 0, 0, 0, 0, 0, 0, 0,\n",
       "       0, 0, 0, 1, 0, 0, 0, 0, 0, 0, 0, 0, 0, 0, 0, 0, 0, 0, 0, 0, 0, 0,\n",
       "       0, 1, 1, 0, 0, 0, 0, 0, 0, 0, 0, 0, 0, 1, 0, 0, 0, 0, 0, 0, 0, 0,\n",
       "       0, 0, 0, 0, 0, 0, 0, 0, 0, 0, 0, 0, 0, 0, 0, 0, 0, 0, 0, 0, 0, 0,\n",
       "       0, 0, 0, 0, 0, 0, 0, 0, 0, 0, 0, 0, 0, 0, 0, 0, 0, 0, 1, 0, 0, 0,\n",
       "       1, 0, 0, 0, 0, 0, 0, 0, 0, 0, 0, 0, 0, 0, 0, 0, 0, 0, 0, 0, 0, 0,\n",
       "       0, 0, 0, 0, 0, 0, 0, 0, 0, 0, 0, 0, 0, 0, 0, 0, 0, 0, 0, 0, 0, 0,\n",
       "       0, 0, 0, 0, 0, 0, 0, 0, 0, 0, 0, 0, 0, 0, 0, 1, 0, 0, 0, 0, 0, 0,\n",
       "       1, 0, 0, 0, 0, 0, 0, 0, 0, 0, 0, 0, 0, 0, 0, 0, 0, 0, 0, 0, 1, 0,\n",
       "       1, 0, 0, 0, 0, 0, 0, 0, 1, 0, 0, 0, 0, 0, 1, 0, 0, 0, 0, 0, 0, 0,\n",
       "       0, 0, 1, 0, 0, 0, 0, 0, 0, 0, 0, 0, 0, 0, 0, 1, 0, 0, 0, 0, 0, 0,\n",
       "       0, 0, 0, 0, 0, 0, 0, 1, 0, 0, 0, 0, 0, 0, 0, 0, 0, 0, 0, 0, 0, 0,\n",
       "       0, 0, 0, 0, 1, 0, 0, 0, 0, 0, 0, 0, 1, 0, 0, 0, 0, 0, 0, 0, 0, 0,\n",
       "       0, 0, 0, 0, 0, 0, 0, 0, 1, 0, 0, 1, 0, 0, 0, 0, 0, 0, 0, 0, 0, 0,\n",
       "       0, 0, 0, 1, 1, 0, 0, 0, 0, 0, 0, 0, 0, 0, 0, 0, 0, 0, 0, 0, 0, 0,\n",
       "       0, 0, 0, 1, 0, 0, 0, 0, 0, 0, 0, 1, 0, 0, 0, 0, 0, 0, 0, 0, 0, 0,\n",
       "       0, 0, 0, 0, 0, 0, 0, 0, 0, 0, 0, 0, 0, 0, 0, 0, 0, 1, 0, 0, 0, 0,\n",
       "       0, 0, 0, 0, 0, 0, 0, 0, 0, 0, 0, 0, 0, 0, 0, 0, 0, 0, 0, 1, 1, 0,\n",
       "       0, 0, 0, 0, 0, 0, 0, 0, 0, 0, 0, 0, 0, 0, 0, 0, 1, 1, 0, 0, 0, 0,\n",
       "       0, 0, 0, 0, 0, 0, 0, 1, 0, 0, 0, 1, 0, 0, 0, 1, 1, 0, 0, 0, 0, 0,\n",
       "       0, 0, 0, 0, 0, 0, 1, 0, 0, 0, 0, 1, 0, 0, 0, 0, 0, 0, 0, 0, 0, 0,\n",
       "       1, 0, 0, 0, 0, 0, 0, 0, 0, 0, 0, 0, 0, 0, 1, 0, 0, 0, 0, 0, 0, 1,\n",
       "       1, 0, 0, 0, 0, 0, 0, 1, 1, 0, 0, 0, 0, 0, 0, 1, 0, 0, 0, 0, 0, 0,\n",
       "       0, 0, 0, 0, 0, 0, 0, 0, 0, 0, 0, 1, 0, 0, 0, 0, 0, 0, 0, 0, 0, 0,\n",
       "       0, 0, 0, 0, 0, 0, 1, 0, 0, 0, 1, 0, 1, 0, 0, 0, 0, 0, 0, 1, 0, 0,\n",
       "       0, 0, 0, 0, 0, 0, 0, 0, 0, 0, 0, 0, 1, 0, 0, 0, 0, 0, 0, 0, 0, 0,\n",
       "       0, 0, 0, 0, 0, 0, 0, 0, 0, 0, 0, 0, 0, 0, 0, 0, 0, 0, 0, 0, 0, 0,\n",
       "       0, 0, 0, 0])"
      ]
     },
     "execution_count": 134,
     "metadata": {},
     "output_type": "execute_result"
    }
   ],
   "source": [
    "final_test_prediction[:,1]"
   ]
  },
  {
   "cell_type": "code",
   "execution_count": 137,
   "metadata": {},
   "outputs": [],
   "source": [
    "c = np.bincount(final_test_prediction[:,1])"
   ]
  },
  {
   "cell_type": "code",
   "execution_count": 138,
   "metadata": {},
   "outputs": [
    {
     "data": {
      "text/plain": [
       "67"
      ]
     },
     "execution_count": 138,
     "metadata": {},
     "output_type": "execute_result"
    }
   ],
   "source": [
    "c[1]"
   ]
  },
  {
   "cell_type": "code",
   "execution_count": 139,
   "metadata": {
    "scrolled": true
   },
   "outputs": [
    {
     "data": {
      "text/plain": [
       "707"
      ]
     },
     "execution_count": 139,
     "metadata": {},
     "output_type": "execute_result"
    }
   ],
   "source": [
    "c[0]"
   ]
  },
  {
   "cell_type": "code",
   "execution_count": null,
   "metadata": {},
   "outputs": [],
   "source": []
  }
 ],
 "metadata": {
  "kernelspec": {
   "display_name": "Python 3",
   "language": "python",
   "name": "python3"
  },
  "language_info": {
   "codemirror_mode": {
    "name": "ipython",
    "version": 3
   },
   "file_extension": ".py",
   "mimetype": "text/x-python",
   "name": "python",
   "nbconvert_exporter": "python",
   "pygments_lexer": "ipython3",
   "version": "3.8.5"
  }
 },
 "nbformat": 4,
 "nbformat_minor": 4
}
